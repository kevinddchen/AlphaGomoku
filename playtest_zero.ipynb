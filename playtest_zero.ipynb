{
 "cells": [
  {
   "cell_type": "code",
   "execution_count": null,
   "metadata": {},
   "outputs": [],
   "source": [
    "## only run if using google Colab\n",
    "from google.colab import drive\n",
    "drive.mount('/content/drive')\n",
    "\n",
    "import os\n",
    "os.chdir('/content/drive/MyDrive/UCLA/ECE239/Gomoku-project/')"
   ]
  },
  {
   "cell_type": "code",
   "execution_count": 1,
   "metadata": {},
   "outputs": [],
   "source": [
    "import numpy as np\n",
    "import tensorflow as tf\n",
    "import tensorflow.keras as keras\n",
    "\n",
    "import gomoku, player_zero\n",
    "from time import time\n",
    "\n",
    "# for auto-reloading external modules\n",
    "%load_ext autoreload\n",
    "%autoreload 2"
   ]
  },
  {
   "cell_type": "code",
   "execution_count": null,
   "metadata": {},
   "outputs": [],
   "source": [
    "## check running GPU\n",
    "tf.test.gpu_device_name()"
   ]
  },
  {
   "cell_type": "code",
   "execution_count": 68,
   "metadata": {},
   "outputs": [],
   "source": [
    "model = player_zero.net(9)\n",
    "\n",
    "opt = keras.optimizers.Adam(learning_rate=1e-3)\n",
    "policy_loss = keras.losses.BinaryCrossentropy(name='cross_entropy')\n",
    "value_loss = keras.losses.MeanSquaredError(name='mse')\n",
    "\n",
    "model.compile(optimizer=opt, \n",
    "              loss={'policy': policy_loss,\n",
    "                    'value': value_loss})"
   ]
  },
  {
   "cell_type": "code",
   "execution_count": 69,
   "metadata": {},
   "outputs": [
    {
     "name": "stdout",
     "output_type": "stream",
     "text": [
      "Model: \"model_2\"\n",
      "__________________________________________________________________________________________________\n",
      "Layer (type)                    Output Shape         Param #     Connected to                     \n",
      "==================================================================================================\n",
      "input (InputLayer)              [(None, 9, 9, 1)]    0                                            \n",
      "__________________________________________________________________________________________________\n",
      "conv1 (Conv2D)                  (None, 9, 9, 64)     640         input[0][0]                      \n",
      "__________________________________________________________________________________________________\n",
      "conv2 (Conv2D)                  (None, 9, 9, 64)     36928       conv1[0][0]                      \n",
      "__________________________________________________________________________________________________\n",
      "conv3 (Conv2D)                  (None, 9, 9, 64)     36928       conv2[0][0]                      \n",
      "__________________________________________________________________________________________________\n",
      "conv5 (Conv2D)                  (None, 9, 9, 1)      65          conv3[0][0]                      \n",
      "__________________________________________________________________________________________________\n",
      "conv4 (Conv2D)                  (None, 9, 9, 2)      130         conv3[0][0]                      \n",
      "__________________________________________________________________________________________________\n",
      "flatten_5 (Flatten)             (None, 81)           0           conv5[0][0]                      \n",
      "__________________________________________________________________________________________________\n",
      "flatten_4 (Flatten)             (None, 162)          0           conv4[0][0]                      \n",
      "__________________________________________________________________________________________________\n",
      "dense1 (Dense)                  (None, 64)           5248        flatten_5[0][0]                  \n",
      "__________________________________________________________________________________________________\n",
      "policy (Dense)                  (None, 81)           13203       flatten_4[0][0]                  \n",
      "__________________________________________________________________________________________________\n",
      "value (Dense)                   (None, 1)            65          dense1[0][0]                     \n",
      "==================================================================================================\n",
      "Total params: 93,207\n",
      "Trainable params: 93,207\n",
      "Non-trainable params: 0\n",
      "__________________________________________________________________________________________________\n"
     ]
    }
   ],
   "source": [
    "model.summary()"
   ]
  },
  {
   "cell_type": "code",
   "execution_count": 70,
   "metadata": {},
   "outputs": [],
   "source": [
    "#model.save_weights('day0.h5')"
   ]
  },
  {
   "cell_type": "code",
   "execution_count": 4,
   "metadata": {},
   "outputs": [],
   "source": [
    "model.load_weights('day0.h5')"
   ]
  },
  {
   "cell_type": "markdown",
   "metadata": {},
   "source": [
    "# Playtest"
   ]
  },
  {
   "cell_type": "code",
   "execution_count": 59,
   "metadata": {},
   "outputs": [],
   "source": [
    "## playtest against human\n",
    "game = gomoku.Gomoku(9)\n",
    "p2 = player_zero.ZeroPlayer('p2', -1, game, model)"
   ]
  },
  {
   "cell_type": "code",
   "execution_count": 49,
   "metadata": {
    "scrolled": true
   },
   "outputs": [
    {
     "name": "stdout",
     "output_type": "stream",
     "text": [
      "black played (4, 4).\n",
      "white played (3, 1).\n",
      "black's turn.\n",
      "   0 1 2 3 4\n",
      " 0 . . . . . \n",
      " 1 . . . ○ . \n",
      " 2 . . . . . \n",
      " 3 . . . . . \n",
      " 4 . . . . ● \n",
      "time: 1.983\n"
     ]
    }
   ],
   "source": [
    "game.play(4, 4)\n",
    "t = time()\n",
    "if not game.finished:\n",
    "    game.play(*p2.play(game))\n",
    "game.show()\n",
    "print(\"time: {0:.3f}\".format(time() - t))"
   ]
  },
  {
   "cell_type": "code",
   "execution_count": 60,
   "metadata": {},
   "outputs": [
    {
     "name": "stdout",
     "output_type": "stream",
     "text": [
      "white played (2, 1).\n",
      "black played (3, 0).\n",
      "white's turn.\n",
      "   0 1 2 3 4\n",
      " 0 . ● ● ● ● \n",
      " 1 . ○ ○ . ○ \n",
      " 2 . . . . . \n",
      " 3 . . . . . \n",
      " 4 . . . . . \n"
     ]
    }
   ],
   "source": [
    "game.play(4, 0)\n",
    "p2.tree.updateHead(4*9+0)\n",
    "game.play(4, 1)\n",
    "p2.tree.updateHead(4*9+1)\n",
    "\n",
    "game.play(1, 0)\n",
    "p2.tree.updateHead(1*9+0)\n",
    "game.play(1, 1)\n",
    "p2.tree.updateHead(1*9+1)\n",
    "\n",
    "game.play(2, 0)\n",
    "p2.tree.updateHead(2*9+0)\n",
    "game.play(2, 1)\n",
    "p2.tree.updateHead(2*9+1)\n",
    "\n",
    "game.play(3, 0)\n",
    "p2.tree.updateHead(3*9+0)\n",
    "# game.play(3, 1)\n",
    "# p2.tree.updateHead(3*9+1)\n",
    "\n",
    "# game.play(8, 8)\n",
    "# p2.tree.updateHead(8*9+8)\n",
    "\n",
    "game.show()"
   ]
  },
  {
   "cell_type": "code",
   "execution_count": 71,
   "metadata": {},
   "outputs": [],
   "source": [
    "## playtest against self\n",
    "game = gomoku.Gomoku(9)\n",
    "p1 = player_zero.ZeroPlayer('p1', +1, game, model)\n",
    "p2 = player_zero.ZeroPlayer('p2', -1, game, model)\n",
    "pa, pb = p1, p2"
   ]
  },
  {
   "cell_type": "code",
   "execution_count": 72,
   "metadata": {},
   "outputs": [
    {
     "name": "stdout",
     "output_type": "stream",
     "text": [
      "white played (0, 8).\n",
      "black played (6, 5).\n",
      "game has ended. winner: black\n",
      "   0 1 2 3 4 5 6 7 8\n",
      " 0 . ● . . ● . . ● . \n",
      " 1 . ○ . . ● . . . . \n",
      " 2 . . . . ○ ● . . . \n",
      " 3 ○ . ○ . . ○ . . ○ \n",
      " 4 ● ● . . ○ . . ● . \n",
      " 5 . . . . ● ● ● ● ● \n",
      " 6 ○ . . . . ○ . . . \n",
      " 7 ● . ● . . ○ . . . \n",
      " 8 ○ . . ○ . ○ ○ . . \n",
      "time: 50.267\n"
     ]
    }
   ],
   "source": [
    "#if not game.finished:\n",
    "t = time()\n",
    "while not game.finished:\n",
    "    game.play(*pa.play(game))\n",
    "    pa, pb = pb, pa\n",
    "game.show()\n",
    "print(\"time: {0:.3f}\".format(time() - t))"
   ]
  },
  {
   "cell_type": "markdown",
   "metadata": {},
   "source": [
    "# Self-play games"
   ]
  },
  {
   "cell_type": "code",
   "execution_count": null,
   "metadata": {},
   "outputs": [],
   "source": [
    "## play 1000 games\n",
    "\n",
    "day = 'day0'\n",
    "\n",
    "for i in range(10):\n",
    "    suffix = '_' + str(i)\n",
    "    recorder = player_zero.GameRecorder(day+suffix+'.tfrecords')\n",
    "    recorder.open()\n",
    "    print(i, end=': ')\n",
    "    for j in range(100):\n",
    "        print(j, end=',')\n",
    "        game = gomoku.Gomoku(9)\n",
    "        p1 = player_zero.ZeroPlayer('p1', +1, game, model, recorder)\n",
    "        p2 = player_zero.ZeroPlayer('p2', -1, game, model, recorder)\n",
    "\n",
    "        pa, pb = p1, p2\n",
    "        while not game.finished:\n",
    "            game.play(*pa.play(game))\n",
    "            pa, pb = pb, pa\n",
    "    print()\n",
    "    recorder.close()"
   ]
  },
  {
   "cell_type": "code",
   "execution_count": 38,
   "metadata": {},
   "outputs": [],
   "source": [
    "## merge into one dataset\n",
    "datasets = []\n",
    "day = 'day0'\n",
    "\n",
    "for i in range(10):\n",
    "    suffix = '_' + str(i)\n",
    "    recorder = player_zero.GameRecorder(day+suffix+'.tfrecords')\n",
    "    datasets.append(recorder.fetch())"
   ]
  },
  {
   "cell_type": "code",
   "execution_count": 39,
   "metadata": {},
   "outputs": [],
   "source": [
    "recorder = player_zero.GameRecorder(day+'.tfrecords')\n",
    "recorder.open()\n",
    "for ds in datasets:\n",
    "    for x in ds:\n",
    "        board = x[0].numpy()\n",
    "        policy = x[1]['policy'].numpy()\n",
    "        value = x[1]['value']\n",
    "        recorder.write(board, policy, value)\n",
    "recorder.close()"
   ]
  },
  {
   "cell_type": "code",
   "execution_count": 40,
   "metadata": {},
   "outputs": [],
   "source": [
    "recorder = player_zero.GameRecorder('day0.tfrecords')\n",
    "data = recorder.fetch()"
   ]
  },
  {
   "cell_type": "code",
   "execution_count": 41,
   "metadata": {},
   "outputs": [
    {
     "data": {
      "text/plain": [
       "33240"
      ]
     },
     "execution_count": 41,
     "metadata": {},
     "output_type": "execute_result"
    }
   ],
   "source": [
    "len(list(data))"
   ]
  },
  {
   "cell_type": "markdown",
   "metadata": {},
   "source": [
    "# Train NN"
   ]
  },
  {
   "cell_type": "code",
   "execution_count": 66,
   "metadata": {},
   "outputs": [],
   "source": [
    "recorder = player_zero.GameRecorder('day1.tfrecords')\n",
    "data1 = recorder.fetch()"
   ]
  },
  {
   "cell_type": "code",
   "execution_count": 16,
   "metadata": {},
   "outputs": [],
   "source": [
    "board = np.array([x[0] for x in data])\n",
    "policy = np.array([x[1]['policy'] for x in data])\n",
    "value = np.array([x[1]['value'] for x in data])"
   ]
  },
  {
   "cell_type": "code",
   "execution_count": 17,
   "metadata": {},
   "outputs": [
    {
     "data": {
      "text/plain": [
       "825"
      ]
     },
     "execution_count": 17,
     "metadata": {},
     "output_type": "execute_result"
    }
   ],
   "source": [
    "np.argsort(value)[-100]"
   ]
  },
  {
   "cell_type": "code",
   "execution_count": 18,
   "metadata": {},
   "outputs": [
    {
     "data": {
      "text/plain": [
       "1.0"
      ]
     },
     "execution_count": 18,
     "metadata": {},
     "output_type": "execute_result"
    }
   ],
   "source": [
    "value[825]"
   ]
  },
  {
   "cell_type": "code",
   "execution_count": 9,
   "metadata": {},
   "outputs": [],
   "source": [
    "train = data.shuffle(1000).batch(20)"
   ]
  },
  {
   "cell_type": "code",
   "execution_count": 10,
   "metadata": {
    "scrolled": true
   },
   "outputs": [
    {
     "name": "stdout",
     "output_type": "stream",
     "text": [
      "Epoch 1/10\n",
      "525/525 [==============================] - 7s 10ms/step - loss: 0.1822 - policy_loss: 0.1805 - value_loss: 0.0016\n",
      "Epoch 2/10\n",
      "525/525 [==============================] - 6s 11ms/step - loss: 0.0874 - policy_loss: 0.0871 - value_loss: 2.8777e-04\n",
      "Epoch 3/10\n",
      "525/525 [==============================] - 5s 10ms/step - loss: 0.0706 - policy_loss: 0.0704 - value_loss: 1.7786e-04\n",
      "Epoch 4/10\n",
      "525/525 [==============================] - 5s 10ms/step - loss: 0.0568 - policy_loss: 0.0565 - value_loss: 2.3120e-04\n",
      "Epoch 5/10\n",
      "525/525 [==============================] - 6s 10ms/step - loss: 0.0495 - policy_loss: 0.0492 - value_loss: 2.8818e-04\n",
      "Epoch 6/10\n",
      "525/525 [==============================] - 6s 11ms/step - loss: 0.0452 - policy_loss: 0.0450 - value_loss: 1.7766e-04\n",
      "Epoch 7/10\n",
      "525/525 [==============================] - 6s 11ms/step - loss: 0.0433 - policy_loss: 0.0426 - value_loss: 7.0706e-04\n",
      "Epoch 8/10\n",
      "525/525 [==============================] - 6s 11ms/step - loss: 0.0414 - policy_loss: 0.0411 - value_loss: 2.9201e-04\n",
      "Epoch 9/10\n",
      "525/525 [==============================] - 7s 13ms/step - loss: 0.0407 - policy_loss: 0.0400 - value_loss: 6.7752e-04\n",
      "Epoch 10/10\n",
      "525/525 [==============================] - 5s 10ms/step - loss: 0.0392 - policy_loss: 0.0392 - value_loss: 1.8213e-05\n"
     ]
    }
   ],
   "source": [
    "history = model.fit(train, epochs=50)"
   ]
  },
  {
   "cell_type": "code",
   "execution_count": 11,
   "metadata": {},
   "outputs": [],
   "source": [
    "model.save_weights('day1.h5')"
   ]
  }
 ],
 "metadata": {
  "kernelspec": {
   "display_name": "Python 3",
   "language": "python",
   "name": "python3"
  },
  "language_info": {
   "codemirror_mode": {
    "name": "ipython",
    "version": 3
   },
   "file_extension": ".py",
   "mimetype": "text/x-python",
   "name": "python",
   "nbconvert_exporter": "python",
   "pygments_lexer": "ipython3",
   "version": "3.8.10"
  }
 },
 "nbformat": 4,
 "nbformat_minor": 4
}
