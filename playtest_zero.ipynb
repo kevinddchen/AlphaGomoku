{
 "cells": [
  {
   "cell_type": "code",
   "execution_count": null,
   "metadata": {},
   "outputs": [],
   "source": [
    "## only run if using google Colab\n",
    "from google.colab import drive\n",
    "drive.mount('/content/drive')\n",
    "\n",
    "import os\n",
    "os.chdir('/content/drive/MyDrive/UCLA/ECE239/Gomoku-project/')"
   ]
  },
  {
   "cell_type": "code",
   "execution_count": 1,
   "metadata": {},
   "outputs": [],
   "source": [
    "import numpy as np\n",
    "import tensorflow as tf\n",
    "import tensorflow.keras as keras\n",
    "\n",
    "import gomoku, player_basic, player_zero\n",
    "from time import time\n",
    "\n",
    "# for auto-reloading external modules\n",
    "%load_ext autoreload\n",
    "%autoreload 2"
   ]
  },
  {
   "cell_type": "code",
   "execution_count": null,
   "metadata": {},
   "outputs": [],
   "source": [
    "## check running GPU\n",
    "tf.test.gpu_device_name()"
   ]
  },
  {
   "cell_type": "code",
   "execution_count": 2,
   "metadata": {},
   "outputs": [],
   "source": [
    "model = player_zero.net(9)\n",
    "\n",
    "opt = keras.optimizers.Adam(learning_rate=1e-3)\n",
    "policy_loss = keras.losses.BinaryCrossentropy(name='cross_entropy')\n",
    "value_loss = keras.losses.MeanSquaredError(name='mse')\n",
    "\n",
    "model.compile(optimizer=opt, \n",
    "              loss={'policy': policy_loss,\n",
    "                    'value': value_loss})"
   ]
  },
  {
   "cell_type": "code",
   "execution_count": 3,
   "metadata": {},
   "outputs": [
    {
     "name": "stdout",
     "output_type": "stream",
     "text": [
      "Model: \"model\"\n",
      "__________________________________________________________________________________________________\n",
      "Layer (type)                    Output Shape         Param #     Connected to                     \n",
      "==================================================================================================\n",
      "input (InputLayer)              [(None, 9, 9, 1)]    0                                            \n",
      "__________________________________________________________________________________________________\n",
      "conv1 (Conv2D)                  (None, 9, 9, 64)     640         input[0][0]                      \n",
      "__________________________________________________________________________________________________\n",
      "conv2 (Conv2D)                  (None, 9, 9, 64)     36928       conv1[0][0]                      \n",
      "__________________________________________________________________________________________________\n",
      "conv3 (Conv2D)                  (None, 9, 9, 64)     36928       conv2[0][0]                      \n",
      "__________________________________________________________________________________________________\n",
      "conv5 (Conv2D)                  (None, 9, 9, 1)      65          conv3[0][0]                      \n",
      "__________________________________________________________________________________________________\n",
      "conv4 (Conv2D)                  (None, 9, 9, 2)      130         conv3[0][0]                      \n",
      "__________________________________________________________________________________________________\n",
      "flatten_1 (Flatten)             (None, 81)           0           conv5[0][0]                      \n",
      "__________________________________________________________________________________________________\n",
      "flatten (Flatten)               (None, 162)          0           conv4[0][0]                      \n",
      "__________________________________________________________________________________________________\n",
      "dense1 (Dense)                  (None, 64)           5248        flatten_1[0][0]                  \n",
      "__________________________________________________________________________________________________\n",
      "policy (Dense)                  (None, 81)           13203       flatten[0][0]                    \n",
      "__________________________________________________________________________________________________\n",
      "value (Dense)                   (None, 1)            65          dense1[0][0]                     \n",
      "==================================================================================================\n",
      "Total params: 93,207\n",
      "Trainable params: 93,207\n",
      "Non-trainable params: 0\n",
      "__________________________________________________________________________________________________\n"
     ]
    }
   ],
   "source": [
    "model.summary()"
   ]
  },
  {
   "cell_type": "code",
   "execution_count": 4,
   "metadata": {},
   "outputs": [],
   "source": [
    "#model.save_weights('day0.h5')"
   ]
  },
  {
   "cell_type": "code",
   "execution_count": 5,
   "metadata": {},
   "outputs": [],
   "source": [
    "model.load_weights('day1.h5')"
   ]
  },
  {
   "cell_type": "markdown",
   "metadata": {},
   "source": [
    "# Playtest"
   ]
  },
  {
   "cell_type": "code",
   "execution_count": 107,
   "metadata": {},
   "outputs": [],
   "source": [
    "## playtest against human\n",
    "game = gomoku.Gomoku(9)\n",
    "p2 = player_zero.ZeroPlayer('p2', -1, game, model)"
   ]
  },
  {
   "cell_type": "code",
   "execution_count": 94,
   "metadata": {
    "scrolled": true
   },
   "outputs": [
    {
     "name": "stdout",
     "output_type": "stream",
     "text": [
      "black played (4, 4).\n",
      "white played (0, 1).\n",
      "black's turn.\n",
      "   0 1 2 3 4 5 6 7 8\n",
      " 0 . . . . . . . . . \n",
      " 1 ○ . . . . . . . . \n",
      " 2 . . . . . . . . . \n",
      " 3 . . . . . . . . . \n",
      " 4 . . . . ● . . . . \n",
      " 5 . . . . . . . . . \n",
      " 6 . . . . . . . . . \n",
      " 7 . . . . . . . . . \n",
      " 8 . . . . . . . . . \n",
      "time: 2.224\n"
     ]
    }
   ],
   "source": [
    "game.play(4, 4)\n",
    "t = time()\n",
    "if not game.finished:\n",
    "    game.play(*p2.play(game))\n",
    "game.show()\n",
    "print(\"time: {0:.3f}\".format(time() - t))"
   ]
  },
  {
   "cell_type": "code",
   "execution_count": 108,
   "metadata": {},
   "outputs": [
    {
     "name": "stdout",
     "output_type": "stream",
     "text": [
      "black played (6, 3).\n",
      "white played (6, 4).\n",
      "black's turn.\n",
      "   0 1 2 3 4 5 6 7 8\n",
      " 0 . . . . . . . . . \n",
      " 1 . . . . . . . . . \n",
      " 2 . . . . . . . . . \n",
      " 3 . . . ● ● ● ● . . \n",
      " 4 . . . ○ ○ ○ ○ . . \n",
      " 5 . . . . . . . . . \n",
      " 6 . . . . . . . . . \n",
      " 7 . . . . . . . . . \n",
      " 8 . . . . . . . . . \n"
     ]
    }
   ],
   "source": [
    "game.play(3, 3)\n",
    "p2.tree.updateHead(3*9+3)\n",
    "game.play(3, 4)\n",
    "p2.tree.updateHead(3*9+4)\n",
    "\n",
    "game.play(4, 3)\n",
    "p2.tree.updateHead(4*9+3)\n",
    "game.play(4, 4)\n",
    "p2.tree.updateHead(4*9+4)\n",
    "\n",
    "game.play(5, 3)\n",
    "p2.tree.updateHead(5*9+3)\n",
    "game.play(5, 4)\n",
    "p2.tree.updateHead(5*9+4)\n",
    "\n",
    "game.play(6, 3)\n",
    "p2.tree.updateHead(6*9+3)\n",
    "game.play(6, 4)\n",
    "p2.tree.updateHead(6*9+4)\n",
    "\n",
    "# game.play(8, 8)\n",
    "# p2.tree.updateHead(8*9+8)\n",
    "\n",
    "game.show()"
   ]
  },
  {
   "cell_type": "code",
   "execution_count": 109,
   "metadata": {},
   "outputs": [
    {
     "data": {
      "text/plain": [
       "(3, 0)"
      ]
     },
     "execution_count": 109,
     "metadata": {},
     "output_type": "execute_result"
    }
   ],
   "source": [
    "p2.play(game)"
   ]
  },
  {
   "cell_type": "code",
   "execution_count": 111,
   "metadata": {},
   "outputs": [
    {
     "data": {
      "text/plain": [
       "array([39, 29, 74, 72, 28, 41, 65, 34, 32,  2,  7, 62, 33, 15, 50, 77,  3,\n",
       "       25, 64, 71, 63, 45,  5, 61,  8, 60, 78, 59, 31, 55, 38, 73, 69, 54,\n",
       "       26, 24, 80, 46, 36, 35,  0, 11, 17, 23, 10, 49, 53, 20, 52, 75, 79,\n",
       "       30, 40,  9, 22, 68, 76, 21, 12, 43, 27,  4, 16, 56, 57, 18, 14, 67,\n",
       "       66, 47, 13, 58, 42, 48, 51, 19, 37,  1, 70,  6, 44])"
      ]
     },
     "execution_count": 111,
     "metadata": {},
     "output_type": "execute_result"
    }
   ],
   "source": [
    "np.argsort(p2.tree.prev_head.P)"
   ]
  },
  {
   "cell_type": "code",
   "execution_count": 6,
   "metadata": {},
   "outputs": [],
   "source": [
    "## playtest against self\n",
    "game = gomoku.Gomoku(9)\n",
    "p1 = player_zero.ZeroPlayer('p1', +1, game, model)\n",
    "p2 = player_zero.ZeroPlayer('p2', -1, game, model)\n",
    "pa, pb = p1, p2"
   ]
  },
  {
   "cell_type": "code",
   "execution_count": 7,
   "metadata": {},
   "outputs": [
    {
     "name": "stdout",
     "output_type": "stream",
     "text": [
      "black played (0, 4).\n",
      "white played (6, 0).\n",
      "game has ended. winner: white\n",
      "   0 1 2 3 4 5 6 7 8\n",
      " 0 . ● ○ ○ ○ ○ ○ . . \n",
      " 1 ● . . . ○ ● . ○ ● \n",
      " 2 ○ ● . . ● . . . . \n",
      " 3 . ● . . . . . . . \n",
      " 4 ● . ○ ○ . ● . . . \n",
      " 5 ● . . . . . . . . \n",
      " 6 . . ○ . . . . ○ . \n",
      " 7 ● . ● . ○ . ○ . . \n",
      " 8 . ● ○ ● ○ . ● ● . \n",
      "time: 59.261\n"
     ]
    }
   ],
   "source": [
    "#if not game.finished:\n",
    "t = time()\n",
    "while not game.finished:\n",
    "    game.play(*pa.play(game))\n",
    "    pa, pb = pb, pa\n",
    "game.show()\n",
    "print(\"time: {0:.3f}\".format(time() - t))"
   ]
  },
  {
   "cell_type": "markdown",
   "metadata": {},
   "source": [
    "# Self-play games"
   ]
  },
  {
   "cell_type": "code",
   "execution_count": null,
   "metadata": {},
   "outputs": [],
   "source": [
    "## play 1000 games\n",
    "\n",
    "day = 'day0'\n",
    "\n",
    "for i in range(10):\n",
    "    suffix = '_' + str(i)\n",
    "    recorder = player_zero.GameRecorder(day+suffix+'.tfrecords')\n",
    "    recorder.open()\n",
    "    print(i, end=': ')\n",
    "    for j in range(100):\n",
    "        print(j, end=',')\n",
    "        game = gomoku.Gomoku(9)\n",
    "        p1 = player_zero.ZeroPlayer('p1', +1, game, model, recorder)\n",
    "        p2 = player_zero.ZeroPlayer('p2', -1, game, model, recorder)\n",
    "\n",
    "        pa, pb = p1, p2\n",
    "        while not game.finished:\n",
    "            game.play(*pa.play(game))\n",
    "            pa, pb = pb, pa\n",
    "    print()\n",
    "    recorder.close()"
   ]
  },
  {
   "cell_type": "code",
   "execution_count": 112,
   "metadata": {},
   "outputs": [],
   "source": [
    "## merge into one dataset\n",
    "datasets = []\n",
    "day = 'day0'\n",
    "\n",
    "for i in range(11):\n",
    "    suffix = '_' + str(i)\n",
    "    recorder = player_zero.GameRecorder(day+suffix+'.tfrecords')\n",
    "    datasets.append(recorder.fetch())"
   ]
  },
  {
   "cell_type": "code",
   "execution_count": 113,
   "metadata": {},
   "outputs": [],
   "source": [
    "recorder = player_zero.GameRecorder(day+'.tfrecords')\n",
    "recorder.open(overwrite=True)\n",
    "for ds in datasets:\n",
    "    for x in ds:\n",
    "        board = x[0].numpy()\n",
    "        policy = x[1]['policy'].numpy()\n",
    "        value = x[1]['value']\n",
    "        recorder.write(board, policy, value)\n",
    "recorder.close()"
   ]
  },
  {
   "cell_type": "code",
   "execution_count": 8,
   "metadata": {},
   "outputs": [],
   "source": [
    "recorder = player_zero.GameRecorder('day0.tfrecords')\n",
    "data = recorder.fetch()"
   ]
  },
  {
   "cell_type": "code",
   "execution_count": 9,
   "metadata": {},
   "outputs": [
    {
     "data": {
      "text/plain": [
       "36929"
      ]
     },
     "execution_count": 9,
     "metadata": {},
     "output_type": "execute_result"
    }
   ],
   "source": [
    "len(list(data))"
   ]
  },
  {
   "cell_type": "code",
   "execution_count": 10,
   "metadata": {},
   "outputs": [],
   "source": [
    "board = np.array([x[0] for x in data])\n",
    "policy = np.array([x[1]['policy'] for x in data])\n",
    "value = np.array([x[1]['value'] for x in data])"
   ]
  },
  {
   "cell_type": "markdown",
   "metadata": {},
   "source": [
    "# Train NN"
   ]
  },
  {
   "cell_type": "code",
   "execution_count": 104,
   "metadata": {},
   "outputs": [],
   "source": [
    "recorder = player_zero.GameRecorder('day0.tfrecords')\n",
    "data = recorder.fetch()"
   ]
  },
  {
   "cell_type": "code",
   "execution_count": 105,
   "metadata": {},
   "outputs": [],
   "source": [
    "train = data.shuffle(1000).batch(10)"
   ]
  },
  {
   "cell_type": "code",
   "execution_count": null,
   "metadata": {
    "scrolled": true
   },
   "outputs": [],
   "source": [
    "history = model.fit(train, epochs=30)"
   ]
  },
  {
   "cell_type": "code",
   "execution_count": 79,
   "metadata": {},
   "outputs": [],
   "source": [
    "model.save_weights('day1.h5')"
   ]
  },
  {
   "cell_type": "code",
   "execution_count": null,
   "metadata": {},
   "outputs": [],
   "source": []
  }
 ],
 "metadata": {
  "kernelspec": {
   "display_name": "Python 3",
   "language": "python",
   "name": "python3"
  },
  "language_info": {
   "codemirror_mode": {
    "name": "ipython",
    "version": 3
   },
   "file_extension": ".py",
   "mimetype": "text/x-python",
   "name": "python",
   "nbconvert_exporter": "python",
   "pygments_lexer": "ipython3",
   "version": "3.8.10"
  }
 },
 "nbformat": 4,
 "nbformat_minor": 4
}
