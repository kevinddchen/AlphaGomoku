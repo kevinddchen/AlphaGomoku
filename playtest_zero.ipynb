{
 "cells": [
  {
   "cell_type": "code",
   "execution_count": null,
   "metadata": {},
   "outputs": [],
   "source": [
    "## only run if using google Colab\n",
    "from google.colab import drive\n",
    "drive.mount('/content/drive')\n",
    "\n",
    "import os\n",
    "os.chdir('/content/drive/MyDrive/UCLA/ECE239/Gomoku-project/')"
   ]
  },
  {
   "cell_type": "code",
   "execution_count": 1,
   "metadata": {},
   "outputs": [],
   "source": [
    "import numpy as np\n",
    "import tensorflow as tf\n",
    "import tensorflow.keras as keras\n",
    "\n",
    "import gomoku, player_basic, player_zero4 as player_zero\n",
    "from time import time\n",
    "\n",
    "# for auto-reloading external modules\n",
    "%load_ext autoreload\n",
    "%autoreload 2"
   ]
  },
  {
   "cell_type": "code",
   "execution_count": null,
   "metadata": {},
   "outputs": [],
   "source": [
    "## check running GPU\n",
    "tf.test.gpu_device_name()"
   ]
  },
  {
   "cell_type": "code",
   "execution_count": 2,
   "metadata": {},
   "outputs": [],
   "source": [
    "## Gobal parameters ==========\n",
    "SIZE = 6\n",
    "WIN = 4\n",
    "N_ITER = 500\n",
    "## ==========================="
   ]
  },
  {
   "cell_type": "code",
   "execution_count": 3,
   "metadata": {},
   "outputs": [
    {
     "name": "stdout",
     "output_type": "stream",
     "text": [
      "Model: \"model\"\n",
      "__________________________________________________________________________________________________\n",
      "Layer (type)                    Output Shape         Param #     Connected to                     \n",
      "==================================================================================================\n",
      "input (InputLayer)              [(None, 6, 6, 4)]    0                                            \n",
      "__________________________________________________________________________________________________\n",
      "conv1 (Conv2D)                  (None, 6, 6, 32)     1184        input[0][0]                      \n",
      "__________________________________________________________________________________________________\n",
      "conv2 (Conv2D)                  (None, 6, 6, 64)     18496       conv1[0][0]                      \n",
      "__________________________________________________________________________________________________\n",
      "conv3 (Conv2D)                  (None, 6, 6, 128)    73856       conv2[0][0]                      \n",
      "__________________________________________________________________________________________________\n",
      "conv5 (Conv2D)                  (None, 6, 6, 2)      258         conv3[0][0]                      \n",
      "__________________________________________________________________________________________________\n",
      "conv4 (Conv2D)                  (None, 6, 6, 4)      516         conv3[0][0]                      \n",
      "__________________________________________________________________________________________________\n",
      "flatten_1 (Flatten)             (None, 72)           0           conv5[0][0]                      \n",
      "__________________________________________________________________________________________________\n",
      "flatten (Flatten)               (None, 144)          0           conv4[0][0]                      \n",
      "__________________________________________________________________________________________________\n",
      "dense1 (Dense)                  (None, 64)           4672        flatten_1[0][0]                  \n",
      "__________________________________________________________________________________________________\n",
      "policy (Dense)                  (None, 36)           5220        flatten[0][0]                    \n",
      "__________________________________________________________________________________________________\n",
      "value (Dense)                   (None, 1)            65          dense1[0][0]                     \n",
      "==================================================================================================\n",
      "Total params: 104,267\n",
      "Trainable params: 104,267\n",
      "Non-trainable params: 0\n",
      "__________________________________________________________________________________________________\n"
     ]
    }
   ],
   "source": [
    "model = player_zero.net(SIZE)\n",
    "model.load_weights('day0.h5')\n",
    "model.summary()"
   ]
  },
  {
   "cell_type": "code",
   "execution_count": 76,
   "metadata": {},
   "outputs": [],
   "source": [
    "#model.save_weights('day0.h5')"
   ]
  },
  {
   "cell_type": "markdown",
   "metadata": {},
   "source": [
    "# Playtest"
   ]
  },
  {
   "cell_type": "markdown",
   "metadata": {},
   "source": [
    "**Human vs cp**"
   ]
  },
  {
   "cell_type": "code",
   "execution_count": 7,
   "metadata": {},
   "outputs": [],
   "source": [
    "game = gomoku.Gomoku(SIZE)\n",
    "p2 = player_zero.ZeroPlayer('p2', -1, game, model)"
   ]
  },
  {
   "cell_type": "code",
   "execution_count": 8,
   "metadata": {
    "scrolled": true
   },
   "outputs": [
    {
     "name": "stdout",
     "output_type": "stream",
     "text": [
      "black played (4, 4).\n",
      "white played (2, 2).\n",
      "black's turn.\n",
      "   0 1 2 3 4 5\n",
      " 0 . . . . . . \n",
      " 1 . . . . . . \n",
      " 2 . . ○ . . . \n",
      " 3 . . . . . . \n",
      " 4 . . . . ● . \n",
      " 5 . . . . . . \n",
      "time: 1.732\n"
     ]
    }
   ],
   "source": [
    "## play your move ==========\n",
    "game.play(4, 4)\n",
    "## =========================\n",
    "\n",
    "t = time()\n",
    "if not game.finished:\n",
    "    game.play(*p2.play(game, N_ITER))\n",
    "game.show()\n",
    "print(\"time: {0:.3f}\".format(time() - t))"
   ]
  },
  {
   "cell_type": "code",
   "execution_count": null,
   "metadata": {},
   "outputs": [],
   "source": [
    "p2.tree.prev_head.P"
   ]
  },
  {
   "cell_type": "markdown",
   "metadata": {},
   "source": [
    "**Create a fictional game**"
   ]
  },
  {
   "cell_type": "code",
   "execution_count": 6,
   "metadata": {},
   "outputs": [
    {
     "name": "stdout",
     "output_type": "stream",
     "text": [
      "black played (4, 2).\n",
      "white played (4, 3).\n",
      "black's turn.\n",
      "   0 1 2 3 4 5\n",
      " 0 . . . . . . \n",
      " 1 . . . . . . \n",
      " 2 . ● ● ● ● . \n",
      " 3 . ○ ○ ○ ○ . \n",
      " 4 . . . . . . \n",
      " 5 . . . . . . \n"
     ]
    }
   ],
   "source": [
    "game = gomoku.Gomoku(SIZE)\n",
    "\n",
    "game.play(1, 2)\n",
    "game.play(1, 3)\n",
    "\n",
    "game.play(2, 2)\n",
    "game.play(2, 3)\n",
    "\n",
    "game.play(3, 2)\n",
    "game.play(3, 3)\n",
    "\n",
    "game.play(4, 2)\n",
    "\n",
    "p2 = player_zero.ZeroPlayer('p2', +1, game, model, player_zero.PrintRecorder())\n",
    "p2.tree.temp=.5\n",
    "\n",
    "game.play(4, 3)\n",
    "\n",
    "game.show()"
   ]
  },
  {
   "cell_type": "code",
   "execution_count": null,
   "metadata": {},
   "outputs": [],
   "source": [
    "p2.play(game, N_ITER)"
   ]
  },
  {
   "cell_type": "code",
   "execution_count": null,
   "metadata": {},
   "outputs": [],
   "source": [
    "p2.tree.prev_head.N"
   ]
  },
  {
   "cell_type": "markdown",
   "metadata": {},
   "source": [
    "**Cp vs cp**"
   ]
  },
  {
   "cell_type": "code",
   "execution_count": 9,
   "metadata": {},
   "outputs": [],
   "source": [
    "## playtest against self\n",
    "game = gomoku.Gomoku(SIZE)\n",
    "p1 = player_zero.ZeroPlayer('p1', +1, game, model)\n",
    "p2 = player_zero.ZeroPlayer('p2', -1, game, model)\n",
    "pa, pb = p1, p2"
   ]
  },
  {
   "cell_type": "code",
   "execution_count": 10,
   "metadata": {},
   "outputs": [
    {
     "name": "stdout",
     "output_type": "stream",
     "text": [
      "white played (1, 4).\n",
      "black played (2, 5).\n",
      "game has ended. winner: black\n",
      "   0 1 2 3 4 5\n",
      " 0 . . . ● ○ ○ \n",
      " 1 . . ● . . ○ \n",
      " 2 . ○ ● . . . \n",
      " 3 . . ● . ● . \n",
      " 4 . ○ ● ○ ● . \n",
      " 5 . . ● . ○ . \n",
      "time: 29.565\n"
     ]
    }
   ],
   "source": [
    "t = time()\n",
    "#if not game.finished:\n",
    "while not game.finished:\n",
    "    game.play(*pa.play(game, N_ITER))\n",
    "    pa, pb = pb, pa\n",
    "game.show()\n",
    "print(\"time: {0:.3f}\".format(time() - t))"
   ]
  },
  {
   "cell_type": "markdown",
   "metadata": {},
   "source": [
    "# Gather self-play games"
   ]
  },
  {
   "cell_type": "code",
   "execution_count": 60,
   "metadata": {},
   "outputs": [
    {
     "name": "stdout",
     "output_type": "stream",
     "text": [
      "batch  0: 0,\n"
     ]
    }
   ],
   "source": [
    "## ==========\n",
    "BATCH_SIZE = 100\n",
    "START = 0\n",
    "END = 10\n",
    "PREFIX = 'day0'\n",
    "## ==========\n",
    "## save games frequently to prevent data loss\n",
    "## files are saved as 'PREFIX_i.tfrecords' for i = START, START+1, ..., END-1\n",
    "\n",
    "for i in range(START, END):\n",
    "    filename = PREFIX + '_' + str(i) + '.tfrecords'\n",
    "    with player_zero.GameRecorder(filename, SIZE) as recorder:\n",
    "        print(\"batch {0:2d}: \".format(i), end='')\n",
    "        for j in range(BATCH_SIZE):\n",
    "            print(j, end=',')\n",
    "            game = gomoku.Gomoku(SIZE)\n",
    "            p1 = player_zero.ZeroPlayer('p1', +1, game, model, recorder)\n",
    "            p2 = player_zero.ZeroPlayer('p2', -1, game, model, recorder)\n",
    "\n",
    "            pa, pb = p1, p2\n",
    "            while not game.finished:\n",
    "                game.play(*pa.play(game, N_ITER))\n",
    "                pa, pb = pb, pa\n",
    "        print()"
   ]
  },
  {
   "cell_type": "markdown",
   "metadata": {},
   "source": [
    "Examine games collected"
   ]
  },
  {
   "cell_type": "code",
   "execution_count": 61,
   "metadata": {},
   "outputs": [],
   "source": [
    "recorder = player_zero.GameRecorder('day0_0.tfrecords', SIZE)\n",
    "data = recorder.fetch()"
   ]
  },
  {
   "cell_type": "code",
   "execution_count": 62,
   "metadata": {},
   "outputs": [
    {
     "data": {
      "text/plain": [
       "59"
      ]
     },
     "execution_count": 62,
     "metadata": {},
     "output_type": "execute_result"
    }
   ],
   "source": [
    "len(list(data))"
   ]
  },
  {
   "cell_type": "code",
   "execution_count": 63,
   "metadata": {},
   "outputs": [],
   "source": [
    "board = np.array([x[0] for x in data])\n",
    "policy = np.array([x[1]['policy'] for x in data])\n",
    "value = np.array([x[1]['value'] for x in data])"
   ]
  },
  {
   "cell_type": "code",
   "execution_count": null,
   "metadata": {},
   "outputs": [],
   "source": [
    "i = 0\n",
    "print(board[i][..., 0])\n",
    "print(board[i][..., 1])\n",
    "print(board[i][..., 2])\n",
    "print(board[i][..., 3])\n",
    "print(policy[i])\n",
    "print(value[i])"
   ]
  },
  {
   "cell_type": "markdown",
   "metadata": {},
   "source": [
    "# Merge data and augment"
   ]
  },
  {
   "cell_type": "code",
   "execution_count": null,
   "metadata": {},
   "outputs": [],
   "source": [
    "## merge into one dataset==============\n",
    "innames = [\n",
    "    'day0_0.tfrecords',\n",
    "    'day0_1.tfrecords',\n",
    "    'day0_2.tfrecords',\n",
    "    'day0_3.tfrecords',\n",
    "]\n",
    "outname = 'day0.tfrecord'\n",
    "## ====================================\n",
    "\n",
    "datasets = []\n",
    "\n",
    "for inname in innames:\n",
    "    recorder = player_zero.GameRecorder(inname, SIZE)\n",
    "    datasets.append(recorder.fetch())\n",
    "\n",
    "with player_zero.GameRecorder(outname, SIZE) as recorder:\n",
    "    for ds in datasets:\n",
    "        for x in ds:\n",
    "            board = x[0].numpy()\n",
    "            policy = x[1]['policy'].numpy()\n",
    "            value = x[1]['value']\n",
    "            recorder.write(board, policy, value)"
   ]
  },
  {
   "cell_type": "code",
   "execution_count": null,
   "metadata": {},
   "outputs": [],
   "source": [
    "## augment dataset=====================\n",
    "innames = [\n",
    "    'day0_1.tfrecords',\n",
    "    'day0_1.tfrecords',\n",
    "    'day0_2.tfrecords',\n",
    "    'day0_3.tfrecords',\n",
    "]\n",
    "outname = 'day0aug.tfrecord'\n",
    "## ====================================\n",
    "\n",
    "datasets = []\n",
    "\n",
    "for inname in innames:\n",
    "    recorder = player_zero.GameRecorder(inname, SIZE)\n",
    "    datasets.append(recorder.fetch())\n",
    "\n",
    "with player_zero.GameRecorder('day0aug.tfrecords', SIZE) as recorder:\n",
    "    for ds in datasets:\n",
    "        for x in ds:\n",
    "            board = x[0].numpy()\n",
    "            policy = x[1]['policy'].numpy().reshape(SIZE, SIZE) # make into square\n",
    "            value = x[1]['value']\n",
    "            ## rotate\n",
    "            recorder.write(board, policy.flatten(), value)\n",
    "            recorder.write(np.rot90(board, k=1), np.rot90(policy, k=1).flatten(), value)\n",
    "            recorder.write(np.rot90(board, k=2), np.rot90(policy, k=2).flatten(), value)\n",
    "            recorder.write(np.rot90(board, k=3), np.rot90(policy, k=3).flatten(), value)\n",
    "            ## flip\n",
    "            board = np.flipud(board)\n",
    "            policy = np.flipud(policy)\n",
    "            recorder.write(board, policy.flatten(), value)\n",
    "            recorder.write(np.rot90(board, k=1), np.rot90(policy, k=1).flatten(), value)\n",
    "            recorder.write(np.rot90(board, k=2), np.rot90(policy, k=2).flatten(), value)\n",
    "            recorder.write(np.rot90(board, k=3), np.rot90(policy, k=3).flatten(), value)"
   ]
  },
  {
   "cell_type": "markdown",
   "metadata": {},
   "source": [
    "# Train NN"
   ]
  },
  {
   "cell_type": "code",
   "execution_count": null,
   "metadata": {},
   "outputs": [],
   "source": [
    "def cross_entropy(y_true, y_pred):\n",
    "    return - tf.reduce_mean(y_true * tf.math.log(y_pred + 1e-10), axis=-1)\n",
    "\n",
    "opt = keras.optimizers.Adam(learning_rate=1e-3)\n",
    "#policy_loss = keras.losses.BinaryCrossentropy()\n",
    "policy_loss = cross_entropy\n",
    "value_loss = keras.losses.MeanSquaredError()\n",
    "\n",
    "model.compile(optimizer=opt, \n",
    "              loss={'policy': policy_loss,\n",
    "                    'value': value_loss})"
   ]
  },
  {
   "cell_type": "code",
   "execution_count": null,
   "metadata": {},
   "outputs": [],
   "source": [
    "recorder = player_zero.GameRecorder('day0.tfrecords', SIZE)\n",
    "data = recorder.fetch()"
   ]
  },
  {
   "cell_type": "code",
   "execution_count": null,
   "metadata": {},
   "outputs": [],
   "source": [
    "train = data.shuffle(10000).batch(10)"
   ]
  },
  {
   "cell_type": "code",
   "execution_count": null,
   "metadata": {
    "scrolled": true
   },
   "outputs": [],
   "source": [
    "history = model.fit(train, epochs=30)"
   ]
  },
  {
   "cell_type": "code",
   "execution_count": null,
   "metadata": {},
   "outputs": [],
   "source": [
    "model.save_weights('day1.h5')"
   ]
  }
 ],
 "metadata": {
  "kernelspec": {
   "display_name": "Python 3",
   "language": "python",
   "name": "python3"
  },
  "language_info": {
   "codemirror_mode": {
    "name": "ipython",
    "version": 3
   },
   "file_extension": ".py",
   "mimetype": "text/x-python",
   "name": "python",
   "nbconvert_exporter": "python",
   "pygments_lexer": "ipython3",
   "version": "3.8.10"
  }
 },
 "nbformat": 4,
 "nbformat_minor": 4
}
