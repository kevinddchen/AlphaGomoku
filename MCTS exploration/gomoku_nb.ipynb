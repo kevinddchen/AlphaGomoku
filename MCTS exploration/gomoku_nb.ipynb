{
 "cells": [
  {
   "cell_type": "code",
   "execution_count": 30,
   "id": "4bde6a90",
   "metadata": {},
   "outputs": [
    {
     "name": "stdout",
     "output_type": "stream",
     "text": [
      "The autoreload extension is already loaded. To reload it, use:\n",
      "  %reload_ext autoreload\n"
     ]
    }
   ],
   "source": [
    "%load_ext autoreload\n",
    "%autoreload 2"
   ]
  },
  {
   "cell_type": "code",
   "execution_count": null,
   "id": "fa14c374",
   "metadata": {},
   "outputs": [
    {
     "name": "stdout",
     "output_type": "stream",
     "text": [
      "\n",
      "  Gomoku by Stathis \n",
      "\n",
      "  Type \"exit\" to quit the game\n",
      "  Move format [x,y]: 1,2 where 1 is row and 2 is column\n",
      " . . . . . . .\n",
      " . . . . . . .\n",
      " . . . . . . .\n",
      " . . . . . . .\n",
      " . . . . . . .\n",
      " . . . . . . .\n",
      " . . . . . . .\n",
      "\n",
      "> 3,4\n",
      " . . . . . . .\n",
      " . . . . . . .\n",
      " . . . x . . .\n",
      " . . . . . . .\n",
      " . . . . . . .\n",
      " . . . . . . .\n",
      " . . . . . . .\n",
      "\n",
      "mcts replies\n",
      " . . . . . . .\n",
      " . . . . . . .\n",
      " . . . x . . .\n",
      " . . . . . . .\n",
      " . . . . . . .\n",
      " . . . . . o .\n",
      " . . . . . . .\n",
      "\n",
      "> 4,4\n",
      " . . . . . . .\n",
      " . . . . . . .\n",
      " . . . x . . .\n",
      " . . . x . . .\n",
      " . . . . . . .\n",
      " . . . . . o .\n",
      " . . . . . . .\n",
      "\n",
      "mcts replies\n",
      " o . . . . . .\n",
      " . . . . . . .\n",
      " . . . x . . .\n",
      " . . . x . . .\n",
      " . . . . . . .\n",
      " . . . . . o .\n",
      " . . . . . . .\n",
      "\n"
     ]
    }
   ],
   "source": [
    "%run stathis_gomoku.py"
   ]
  },
  {
   "cell_type": "markdown",
   "id": "f1defd20",
   "metadata": {},
   "source": []
  },
  {
   "cell_type": "code",
   "execution_count": 32,
   "id": "d5841114",
   "metadata": {},
   "outputs": [
    {
     "name": "stdout",
     "output_type": "stream",
     "text": [
      "\n",
      "  Tic Tac Toe by Code Monkey King\n",
      "\n",
      "  Type \"exit\" to quit the game\n",
      "  Move format [x,y]: 1,2 where 1 is column and 2 is row\n",
      "\n",
      "--------------\n",
      " \"x\" to move:\n",
      "--------------\n",
      "\n",
      " . . .\n",
      " . . .\n",
      " . . .\n",
      "\n",
      "> 2,2\n",
      "\n",
      "--------------\n",
      " \"o\" to move:\n",
      "--------------\n",
      "\n",
      " . . .\n",
      " . x .\n",
      " . . .\n",
      "\n",
      "\n",
      "--------------\n",
      " \"x\" to move:\n",
      "--------------\n",
      "\n",
      " . . .\n",
      " . x .\n",
      " . . o\n",
      "\n",
      "> 1,3\n",
      "\n",
      "--------------\n",
      " \"o\" to move:\n",
      "--------------\n",
      "\n",
      " . . .\n",
      " . x .\n",
      " x . o\n",
      "\n",
      "\n",
      "--------------\n",
      " \"x\" to move:\n",
      "--------------\n",
      "\n",
      " . . o\n",
      " . x .\n",
      " x . o\n",
      "\n",
      "> 2,1\n",
      "\n",
      "--------------\n",
      " \"o\" to move:\n",
      "--------------\n",
      "\n",
      " . x o\n",
      " . x .\n",
      " x . o\n",
      "\n",
      "\n",
      "--------------\n",
      " \"x\" to move:\n",
      "--------------\n",
      "\n",
      " . x o\n",
      " . x o\n",
      " x . o\n",
      "\n",
      "player \"o\" has won the game!\n",
      "\n"
     ]
    }
   ],
   "source": [
    "%run tictactoe.py"
   ]
  },
  {
   "cell_type": "code",
   "execution_count": null,
   "id": "303446e6",
   "metadata": {},
   "outputs": [],
   "source": []
  }
 ],
 "metadata": {
  "kernelspec": {
   "display_name": "Python 3",
   "language": "python",
   "name": "python3"
  },
  "language_info": {
   "codemirror_mode": {
    "name": "ipython",
    "version": 3
   },
   "file_extension": ".py",
   "mimetype": "text/x-python",
   "name": "python",
   "nbconvert_exporter": "python",
   "pygments_lexer": "ipython3",
   "version": "3.7.4"
  }
 },
 "nbformat": 4,
 "nbformat_minor": 5
}
