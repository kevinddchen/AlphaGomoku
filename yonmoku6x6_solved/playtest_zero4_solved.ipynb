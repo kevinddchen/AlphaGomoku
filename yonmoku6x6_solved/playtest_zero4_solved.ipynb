{
  "nbformat": 4,
  "nbformat_minor": 0,
  "metadata": {
    "kernelspec": {
      "display_name": "Python 3",
      "language": "python",
      "name": "python3"
    },
    "language_info": {
      "codemirror_mode": {
        "name": "ipython",
        "version": 3
      },
      "file_extension": ".py",
      "mimetype": "text/x-python",
      "name": "python",
      "nbconvert_exporter": "python",
      "pygments_lexer": "ipython3",
      "version": "3.8.10"
    },
    "colab": {
      "name": "playtest_zero4_solved.ipynb",
      "provenance": [],
      "collapsed_sections": [],
      "toc_visible": true
    }
  },
  "cells": [
    {
      "cell_type": "code",
      "metadata": {
        "colab": {
          "base_uri": "https://localhost:8080/"
        },
        "id": "VZlxQBVmTnJQ",
        "outputId": "b9c3941e-da6b-4acb-f79e-270ff015b068"
      },
      "source": [
        "## only run if using google Colab\n",
        "from google.colab import drive\n",
        "drive.mount('/content/drive')\n",
        "\n",
        "import os\n",
        "os.chdir('/content/drive/MyDrive/gomoku/')"
      ],
      "execution_count": 32,
      "outputs": [
        {
          "output_type": "stream",
          "text": [
            "Mounted at /content/drive\n"
          ],
          "name": "stdout"
        }
      ]
    },
    {
      "cell_type": "code",
      "metadata": {
        "colab": {
          "base_uri": "https://localhost:8080/"
        },
        "id": "ktCDgC36TnJX",
        "outputId": "07b7e3bb-d752-45f6-962b-dbfecc7f0d81"
      },
      "source": [
        "import numpy as np\n",
        "import tensorflow as tf\n",
        "import tensorflow.keras as keras\n",
        "\n",
        "import gomoku4, player_basic, player_zero\n",
        "from time import time\n",
        "\n",
        "# for auto-reloading external modules\n",
        "%load_ext autoreload\n",
        "%autoreload 2\n",
        "\n",
        "# Need this to update learning rate over time\n",
        "from keras import backend as K\n"
      ],
      "execution_count": 69,
      "outputs": [
        {
          "output_type": "stream",
          "text": [
            "The autoreload extension is already loaded. To reload it, use:\n",
            "  %reload_ext autoreload\n"
          ],
          "name": "stdout"
        }
      ]
    },
    {
      "cell_type": "code",
      "metadata": {
        "colab": {
          "base_uri": "https://localhost:8080/",
          "height": 35
        },
        "id": "ZMbjNrFPTnJZ",
        "outputId": "dd4f17ee-f669-4462-dc29-0cc0ab1fa255"
      },
      "source": [
        "## check running GPU\n",
        "tf.test.gpu_device_name()"
      ],
      "execution_count": 34,
      "outputs": [
        {
          "output_type": "execute_result",
          "data": {
            "application/vnd.google.colaboratory.intrinsic+json": {
              "type": "string"
            },
            "text/plain": [
              "''"
            ]
          },
          "metadata": {
            "tags": []
          },
          "execution_count": 34
        }
      ]
    },
    {
      "cell_type": "markdown",
      "metadata": {
        "id": "4WOWckWCws--"
      },
      "source": [
        ""
      ]
    },
    {
      "cell_type": "markdown",
      "metadata": {
        "id": "Ubd08bwxTnJn"
      },
      "source": [
        "# Self-play games"
      ]
    },
    {
      "cell_type": "code",
      "metadata": {
        "id": "lSjxGyB3L-PU"
      },
      "source": [
        "model = player_zero.net(6)\n",
        "#model.summary()\n",
        "\n",
        "opt = keras.optimizers.Adam(learning_rate=1e-3)\n",
        "policy_loss = keras.losses.BinaryCrossentropy(name='cross_entropy')\n",
        "value_loss = keras.losses.MeanSquaredError(name='mse')\n",
        "\n",
        "model.compile(optimizer=opt, \n",
        "              loss={'policy': policy_loss,\n",
        "                    'value': value_loss})"
      ],
      "execution_count": 91,
      "outputs": []
    },
    {
      "cell_type": "code",
      "metadata": {
        "colab": {
          "base_uri": "https://localhost:8080/"
        },
        "id": "6ndTkUklTnJo",
        "outputId": "5b9b1714-1fb3-4598-e9ed-6339222dd730"
      },
      "source": [
        "## Self play 1000 games, split into 5 rounds\n",
        "## Each round is 200 games and then train NN using those data\n",
        "## Self play game of round 3 is stored in 'round3.tfrecords'\n",
        "## Weights trained using games of round 3 are stored in 'round4weights.h5'\n",
        "## The final weights are stored in 'round5weights.h5'\n",
        "\n",
        "for i in range (5):\n",
        "    recorder = player_zero.GameRecorder('round'+str(i)+'.tfrecords', size=6)\n",
        "    recorder.open()\n",
        "    print ('Round '+str(i))\n",
        "    print ('Self play games', end=': ')\n",
        "    for j in range(200):\n",
        "        print(j, end=',')\n",
        "        game = gomoku4.Gomoku4(6)\n",
        "        p1 = player_zero.ZeroPlayer('p1', +1, game, model, recorder)\n",
        "        p2 = player_zero.ZeroPlayer('p2', -1, game, model, recorder)\n",
        "        pa, pb = p1, p2\n",
        "        while not game.finished:\n",
        "            game.play(*pa.play(game))\n",
        "            pa, pb = pb, pa\n",
        "    print()\n",
        "    print('This is one of the game.')\n",
        "    game.show()\n",
        "    recorder.close()\n",
        "\n",
        "    print('Augmenting data')   \n",
        "    ##### augment data\n",
        "    dataset = recorder.fetch()\n",
        "    recorder = player_zero.GameRecorder('round'+str(i)+'aug.tfrecords', size=6)\n",
        "    recorder.open()\n",
        "    for x in dataset:\n",
        "        board = x[0].numpy()\n",
        "        policy = x[1]['policy'].numpy()\n",
        "        value = x[1]['value']\n",
        "        policy_square = policy.reshape(6,6)\n",
        "        recorder.write(np.rot90(board, k=1), np.rot90(policy_square, k=1).flatten(), value)\n",
        "        recorder.write(np.rot90(board, k=2), np.rot90(policy_square, k=2).flatten(), value)\n",
        "        recorder.write(np.rot90(board, k=3), np.rot90(policy_square, k=3).flatten(), value)\n",
        "        recorder.write(np.flipud(board), np.flipud(policy_square).flatten(), value)\n",
        "        recorder.write(np.rot90(np.flipud(board), k=1), np.rot90(np.flipud(policy_square), k=1).flatten(), value)\n",
        "        recorder.write(np.rot90(np.flipud(board), k=2), np.rot90(np.flipud(policy_square), k=2).flatten(), value)\n",
        "        recorder.write(np.rot90(np.flipud(board), k=3), np.rot90(np.flipud(policy_square), k=3).flatten(), value)\n",
        "    recorder.close()\n",
        "\n",
        "    print('training NN') \n",
        "    augdataset = recorder.fetch()   \n",
        "    train = augdataset.shuffle(1000).batch(10)\n",
        "    model.fit(train,epochs=15,verbose=2)\n",
        "    ## Save the weight\n",
        "    model.save_weights('round'+str(i+1)+'weights.h5')\n",
        "    ## Decrease learning rate\n",
        "    lr = K.eval(model.optimizer.lr)\n",
        "    K.set_value(model.optimizer.learning_rate, lr*0.98)"
      ],
      "execution_count": 92,
      "outputs": [
        {
          "output_type": "stream",
          "text": [
            "Round 0\n",
            "Self play games: 0,1,2,3,4,5,6,7,8,9,10,11,12,13,14,15,16,17,18,19,20,21,22,23,24,25,26,27,28,29,30,31,32,33,34,35,36,37,38,39,40,41,42,43,44,45,46,47,48,49,50,51,52,53,54,55,56,57,58,59,60,61,62,63,64,65,66,67,68,69,70,71,72,73,74,75,76,77,78,79,80,81,82,83,84,85,86,87,88,89,90,91,92,93,94,95,96,97,98,99,100,101,102,103,104,105,106,107,108,109,110,111,112,113,114,115,116,117,118,119,120,121,122,123,124,125,126,127,128,129,130,131,132,133,134,135,136,137,138,139,140,141,142,143,144,145,146,147,148,149,150,151,152,153,154,155,156,157,158,159,160,161,162,163,164,165,166,167,168,169,170,171,172,173,174,175,176,177,178,179,180,181,182,183,184,185,186,187,188,189,190,191,192,193,194,195,196,197,198,199,\n",
            "This is one of the game.\n",
            "white played (4, 5).\n",
            "black played (3, 0).\n",
            "game has ended. winner: black\n",
            "   0 1 2 3 4 5\n",
            " 0 . . ● ● ● ● \n",
            " 1 ○ . ○ . . . \n",
            " 2 ● . ● . ● . \n",
            " 3 . ● ● ● ○ ○ \n",
            " 4 ○ . . . . . \n",
            " 5 ○ . ○ . ○ ○ \n",
            "Augmenting data\n",
            "training NN\n",
            "Epoch 1/15\n",
            "1999/1999 - 20s - loss: 0.1994 - policy_loss: 0.1346 - value_loss: 0.0634\n",
            "Epoch 2/15\n",
            "1999/1999 - 20s - loss: 0.1897 - policy_loss: 0.1254 - value_loss: 0.0633\n",
            "Epoch 3/15\n",
            "1999/1999 - 21s - loss: 0.1850 - policy_loss: 0.1224 - value_loss: 0.0614\n",
            "Epoch 4/15\n",
            "1999/1999 - 21s - loss: 0.1569 - policy_loss: 0.1208 - value_loss: 0.0338\n",
            "Epoch 5/15\n",
            "1999/1999 - 19s - loss: 0.1465 - policy_loss: 0.1190 - value_loss: 0.0246\n",
            "Epoch 6/15\n",
            "1999/1999 - 20s - loss: 0.1421 - policy_loss: 0.1180 - value_loss: 0.0208\n",
            "Epoch 7/15\n",
            "1999/1999 - 21s - loss: 0.1375 - policy_loss: 0.1174 - value_loss: 0.0165\n",
            "Epoch 8/15\n",
            "1999/1999 - 20s - loss: 0.1340 - policy_loss: 0.1169 - value_loss: 0.0134\n",
            "Epoch 9/15\n",
            "1999/1999 - 21s - loss: 0.1301 - policy_loss: 0.1167 - value_loss: 0.0095\n",
            "Epoch 10/15\n",
            "1999/1999 - 22s - loss: 0.1257 - policy_loss: 0.1162 - value_loss: 0.0056\n",
            "Epoch 11/15\n",
            "1999/1999 - 22s - loss: 0.1257 - policy_loss: 0.1160 - value_loss: 0.0057\n",
            "Epoch 12/15\n",
            "1999/1999 - 23s - loss: 0.1247 - policy_loss: 0.1158 - value_loss: 0.0050\n",
            "Epoch 13/15\n",
            "1999/1999 - 22s - loss: 0.1233 - policy_loss: 0.1156 - value_loss: 0.0038\n",
            "Epoch 14/15\n",
            "1999/1999 - 22s - loss: 0.1237 - policy_loss: 0.1155 - value_loss: 0.0044\n",
            "Epoch 15/15\n",
            "1999/1999 - 21s - loss: 0.1232 - policy_loss: 0.1154 - value_loss: 0.0041\n",
            "Round 1\n",
            "Self play games: 0,1,2,3,4,5,6,7,8,9,10,11,12,13,14,15,16,17,18,19,20,21,22,23,24,25,26,27,28,29,30,31,32,33,34,35,36,37,38,39,40,41,42,43,44,45,46,47,48,49,50,51,52,53,54,55,56,57,58,59,60,61,62,63,64,65,66,67,68,69,70,71,72,73,74,75,76,77,78,79,80,81,82,83,84,85,86,87,88,89,90,91,92,93,94,95,96,97,98,99,100,101,102,103,104,105,106,107,108,109,110,111,112,113,114,115,116,117,118,119,120,121,122,123,124,125,126,127,128,129,130,131,132,133,134,135,136,137,138,139,140,141,142,143,144,145,146,147,148,149,150,151,152,153,154,155,156,157,158,159,160,161,162,163,164,165,166,167,168,169,170,171,172,173,174,175,176,177,178,179,180,181,182,183,184,185,186,187,188,189,190,191,192,193,194,195,196,197,198,199,\n",
            "This is one of the game.\n",
            "white played (4, 3).\n",
            "black played (0, 2).\n",
            "game has ended. winner: black\n",
            "   0 1 2 3 4 5\n",
            " 0 . . ● . . . \n",
            " 1 ● . . ○ . . \n",
            " 2 ● . . . ○ . \n",
            " 3 ● ● . ● ○ ○ \n",
            " 4 ● . ○ ○ . ● \n",
            " 5 . . . . ○ . \n",
            "Augmenting data\n",
            "training NN\n",
            "Epoch 1/15\n",
            "1590/1590 - 18s - loss: 0.2748 - policy_loss: 0.1114 - value_loss: 0.1594\n",
            "Epoch 2/15\n",
            "1590/1590 - 18s - loss: 0.2311 - policy_loss: 0.1095 - value_loss: 0.1173\n",
            "Epoch 3/15\n",
            "1590/1590 - 19s - loss: 0.1877 - policy_loss: 0.1087 - value_loss: 0.0741\n",
            "Epoch 4/15\n",
            "1590/1590 - 18s - loss: 0.1666 - policy_loss: 0.1081 - value_loss: 0.0532\n",
            "Epoch 5/15\n",
            "1590/1590 - 18s - loss: 0.1578 - policy_loss: 0.1078 - value_loss: 0.0443\n",
            "Epoch 6/15\n",
            "1590/1590 - 19s - loss: 0.1518 - policy_loss: 0.1073 - value_loss: 0.0384\n",
            "Epoch 7/15\n",
            "1590/1590 - 18s - loss: 0.1452 - policy_loss: 0.1069 - value_loss: 0.0320\n",
            "Epoch 8/15\n",
            "1590/1590 - 18s - loss: 0.1424 - policy_loss: 0.1067 - value_loss: 0.0292\n",
            "Epoch 9/15\n",
            "1590/1590 - 17s - loss: 0.1413 - policy_loss: 0.1065 - value_loss: 0.0280\n",
            "Epoch 10/15\n",
            "1590/1590 - 17s - loss: 0.1386 - policy_loss: 0.1062 - value_loss: 0.0253\n",
            "Epoch 11/15\n",
            "1590/1590 - 17s - loss: 0.1369 - policy_loss: 0.1061 - value_loss: 0.0235\n",
            "Epoch 12/15\n",
            "1590/1590 - 18s - loss: 0.1336 - policy_loss: 0.1059 - value_loss: 0.0204\n",
            "Epoch 13/15\n",
            "1590/1590 - 19s - loss: 0.1328 - policy_loss: 0.1057 - value_loss: 0.0195\n",
            "Epoch 14/15\n",
            "1590/1590 - 18s - loss: 0.1345 - policy_loss: 0.1057 - value_loss: 0.0211\n",
            "Epoch 15/15\n",
            "1590/1590 - 17s - loss: 0.1316 - policy_loss: 0.1055 - value_loss: 0.0182\n",
            "Round 2\n",
            "Self play games: 0,1,2,3,4,5,6,7,8,9,10,11,12,13,14,15,16,17,18,19,20,21,22,23,24,25,26,27,28,29,30,31,32,33,34,35,36,37,38,39,40,41,42,43,44,45,46,47,48,49,50,51,52,53,54,55,56,57,58,59,60,61,62,63,64,65,66,67,68,69,70,71,72,73,74,75,76,77,78,79,80,81,82,83,84,85,86,87,88,89,90,91,92,93,94,95,96,97,98,99,100,101,102,103,104,105,106,107,108,109,110,111,112,113,114,115,116,117,118,119,120,121,122,123,124,125,126,127,128,129,130,131,132,133,134,135,136,137,138,139,140,141,142,143,144,145,146,147,148,149,150,151,152,153,154,155,156,157,158,159,160,161,162,163,164,165,166,167,168,169,170,171,172,173,174,175,176,177,178,179,180,181,182,183,184,185,186,187,188,189,190,191,192,193,194,195,196,197,198,199,\n",
            "This is one of the game.\n",
            "black played (1, 3).\n",
            "white played (2, 0).\n",
            "game has ended. winner: white\n",
            "   0 1 2 3 4 5\n",
            " 0 . . ○ . . . \n",
            " 1 . . . ○ . ● \n",
            " 2 . . ○ ● ○ ○ \n",
            " 3 . ● ● . ● ○ \n",
            " 4 . . . . . . \n",
            " 5 . . . ● . . \n",
            "Augmenting data\n",
            "training NN\n",
            "Epoch 1/15\n",
            "1556/1556 - 18s - loss: 0.2066 - policy_loss: 0.0993 - value_loss: 0.0991\n",
            "Epoch 2/15\n",
            "1556/1556 - 19s - loss: 0.1727 - policy_loss: 0.0974 - value_loss: 0.0670\n",
            "Epoch 3/15\n",
            "1556/1556 - 19s - loss: 0.1576 - policy_loss: 0.0967 - value_loss: 0.0523\n",
            "Epoch 4/15\n",
            "1556/1556 - 19s - loss: 0.1492 - policy_loss: 0.0964 - value_loss: 0.0441\n",
            "Epoch 5/15\n",
            "1556/1556 - 17s - loss: 0.1449 - policy_loss: 0.0961 - value_loss: 0.0398\n",
            "Epoch 6/15\n",
            "1556/1556 - 17s - loss: 0.1397 - policy_loss: 0.0959 - value_loss: 0.0347\n",
            "Epoch 7/15\n",
            "1556/1556 - 18s - loss: 0.1357 - policy_loss: 0.0956 - value_loss: 0.0308\n",
            "Epoch 8/15\n",
            "1556/1556 - 18s - loss: 0.1333 - policy_loss: 0.0955 - value_loss: 0.0283\n",
            "Epoch 9/15\n",
            "1556/1556 - 18s - loss: 0.1323 - policy_loss: 0.0954 - value_loss: 0.0274\n",
            "Epoch 10/15\n",
            "1556/1556 - 19s - loss: 0.1306 - policy_loss: 0.0953 - value_loss: 0.0255\n",
            "Epoch 11/15\n",
            "1556/1556 - 17s - loss: 0.1299 - policy_loss: 0.0952 - value_loss: 0.0249\n",
            "Epoch 12/15\n",
            "1556/1556 - 18s - loss: 0.1266 - policy_loss: 0.0950 - value_loss: 0.0216\n",
            "Epoch 13/15\n",
            "1556/1556 - 17s - loss: 0.1266 - policy_loss: 0.0950 - value_loss: 0.0216\n",
            "Epoch 14/15\n",
            "1556/1556 - 17s - loss: 0.1255 - policy_loss: 0.0949 - value_loss: 0.0206\n",
            "Epoch 15/15\n",
            "1556/1556 - 19s - loss: 0.1267 - policy_loss: 0.0949 - value_loss: 0.0216\n",
            "Round 3\n",
            "Self play games: 0,1,2,3,4,5,6,7,8,9,10,11,12,13,14,15,16,17,18,19,20,21,22,23,24,25,26,27,28,29,30,31,32,33,34,35,36,37,38,39,40,41,42,43,44,45,46,47,48,49,50,51,52,53,54,55,56,57,58,59,60,61,62,63,64,65,66,67,68,69,70,71,72,73,74,75,76,77,78,79,80,81,82,83,84,85,86,87,88,89,90,91,92,93,94,95,96,97,98,99,100,101,102,103,104,105,106,107,108,109,110,111,112,113,114,115,116,117,118,119,120,121,122,123,124,125,126,127,128,129,130,131,132,133,134,135,136,137,138,139,140,141,142,143,144,145,146,147,148,149,150,151,152,153,154,155,156,157,158,159,160,161,162,163,164,165,166,167,168,169,170,171,172,173,174,175,176,177,178,179,180,181,182,183,184,185,186,187,188,189,190,191,192,193,194,195,196,197,198,199,\n",
            "This is one of the game.\n",
            "white played (2, 5).\n",
            "black played (0, 3).\n",
            "game has ended. winner: black\n",
            "   0 1 2 3 4 5\n",
            " 0 . . . . . . \n",
            " 1 . . . ○ . . \n",
            " 2 . . ○ ● ○ . \n",
            " 3 ● ● ● ● ○ . \n",
            " 4 . . . ○ . . \n",
            " 5 . . ○ ● . ● \n",
            "Augmenting data\n",
            "training NN\n",
            "Epoch 1/15\n",
            "1554/1554 - 19s - loss: 0.1982 - policy_loss: 0.0873 - value_loss: 0.1004\n",
            "Epoch 2/15\n",
            "1554/1554 - 18s - loss: 0.1598 - policy_loss: 0.0857 - value_loss: 0.0634\n",
            "Epoch 3/15\n",
            "1554/1554 - 17s - loss: 0.1455 - policy_loss: 0.0851 - value_loss: 0.0495\n",
            "Epoch 4/15\n",
            "1554/1554 - 18s - loss: 0.1372 - policy_loss: 0.0847 - value_loss: 0.0414\n",
            "Epoch 5/15\n",
            "1554/1554 - 18s - loss: 0.1310 - policy_loss: 0.0843 - value_loss: 0.0356\n",
            "Epoch 6/15\n",
            "1554/1554 - 18s - loss: 0.1270 - policy_loss: 0.0841 - value_loss: 0.0317\n",
            "Epoch 7/15\n",
            "1554/1554 - 17s - loss: 0.1272 - policy_loss: 0.0841 - value_loss: 0.0318\n",
            "Epoch 8/15\n",
            "1554/1554 - 17s - loss: 0.1209 - policy_loss: 0.0839 - value_loss: 0.0257\n",
            "Epoch 9/15\n",
            "1554/1554 - 18s - loss: 0.1208 - policy_loss: 0.0838 - value_loss: 0.0255\n",
            "Epoch 10/15\n",
            "1554/1554 - 18s - loss: 0.1195 - policy_loss: 0.0837 - value_loss: 0.0243\n",
            "Epoch 11/15\n",
            "1554/1554 - 19s - loss: 0.1167 - policy_loss: 0.0835 - value_loss: 0.0217\n",
            "Epoch 12/15\n",
            "1554/1554 - 17s - loss: 0.1153 - policy_loss: 0.0834 - value_loss: 0.0205\n",
            "Epoch 13/15\n",
            "1554/1554 - 17s - loss: 0.1158 - policy_loss: 0.0834 - value_loss: 0.0209\n",
            "Epoch 14/15\n",
            "1554/1554 - 17s - loss: 0.1137 - policy_loss: 0.0833 - value_loss: 0.0189\n",
            "Epoch 15/15\n",
            "1554/1554 - 17s - loss: 0.1156 - policy_loss: 0.0833 - value_loss: 0.0208\n",
            "Round 4\n",
            "Self play games: 0,1,2,3,4,5,6,7,8,9,10,11,12,13,14,15,16,17,18,19,20,21,22,23,24,25,26,27,28,29,30,31,32,33,34,35,36,37,38,39,40,41,42,43,44,45,46,47,48,49,50,51,52,53,54,55,56,57,58,59,60,61,62,63,64,65,66,67,68,69,70,71,72,73,74,75,76,77,78,79,80,81,82,83,84,85,86,87,88,89,90,91,92,93,94,95,96,97,98,99,100,101,102,103,104,105,106,107,108,109,110,111,112,113,114,115,116,117,118,119,120,121,122,123,124,125,126,127,128,129,130,131,132,133,134,135,136,137,138,139,140,141,142,143,144,145,146,147,148,149,150,151,152,153,154,155,156,157,158,159,160,161,162,163,164,165,166,167,168,169,170,171,172,173,174,175,176,177,178,179,180,181,182,183,184,185,186,187,188,189,190,191,192,193,194,195,196,197,198,199,\n",
            "This is one of the game.\n",
            "white played (3, 0).\n",
            "black played (5, 3).\n",
            "game has ended. winner: black\n",
            "   0 1 2 3 4 5\n",
            " 0 . ○ ○ ○ . . \n",
            " 1 . . ● . ○ . \n",
            " 2 . . ● ○ ● . \n",
            " 3 . . ● ● ● ● \n",
            " 4 . . ○ . . . \n",
            " 5 . . . . . . \n",
            "Augmenting data\n",
            "training NN\n",
            "Epoch 1/15\n",
            "1575/1575 - 18s - loss: 0.1708 - policy_loss: 0.0773 - value_loss: 0.0816\n",
            "Epoch 2/15\n",
            "1575/1575 - 17s - loss: 0.1370 - policy_loss: 0.0759 - value_loss: 0.0491\n",
            "Epoch 3/15\n",
            "1575/1575 - 18s - loss: 0.1257 - policy_loss: 0.0754 - value_loss: 0.0382\n",
            "Epoch 4/15\n",
            "1575/1575 - 17s - loss: 0.1193 - policy_loss: 0.0751 - value_loss: 0.0319\n",
            "Epoch 5/15\n",
            "1575/1575 - 18s - loss: 0.1141 - policy_loss: 0.0749 - value_loss: 0.0269\n",
            "Epoch 6/15\n",
            "1575/1575 - 18s - loss: 0.1116 - policy_loss: 0.0747 - value_loss: 0.0246\n",
            "Epoch 7/15\n",
            "1575/1575 - 18s - loss: 0.1109 - policy_loss: 0.0746 - value_loss: 0.0240\n",
            "Epoch 8/15\n",
            "1575/1575 - 18s - loss: 0.1082 - policy_loss: 0.0744 - value_loss: 0.0215\n",
            "Epoch 9/15\n",
            "1575/1575 - 19s - loss: 0.1073 - policy_loss: 0.0742 - value_loss: 0.0206\n",
            "Epoch 10/15\n",
            "1575/1575 - 18s - loss: 0.1051 - policy_loss: 0.0742 - value_loss: 0.0185\n",
            "Epoch 11/15\n",
            "1575/1575 - 18s - loss: 0.1043 - policy_loss: 0.0740 - value_loss: 0.0180\n",
            "Epoch 12/15\n",
            "1575/1575 - 18s - loss: 0.1038 - policy_loss: 0.0739 - value_loss: 0.0176\n",
            "Epoch 13/15\n",
            "1575/1575 - 18s - loss: 0.1028 - policy_loss: 0.0739 - value_loss: 0.0167\n",
            "Epoch 14/15\n",
            "1575/1575 - 18s - loss: 0.1033 - policy_loss: 0.0738 - value_loss: 0.0172\n",
            "Epoch 15/15\n",
            "1575/1575 - 18s - loss: 0.1029 - policy_loss: 0.0738 - value_loss: 0.0169\n"
          ],
          "name": "stdout"
        }
      ]
    },
    {
      "cell_type": "markdown",
      "metadata": {
        "id": "jVopRi9CuMPH"
      },
      "source": [
        "# Play against it as Human"
      ]
    },
    {
      "cell_type": "markdown",
      "metadata": {
        "id": "JnZnZ0zvuTBF"
      },
      "source": [
        "Can't beat it if AI goes first"
      ]
    },
    {
      "cell_type": "code",
      "metadata": {
        "colab": {
          "base_uri": "https://localhost:8080/"
        },
        "id": "FKze8zXrua6E",
        "outputId": "0cc551a9-c64a-4779-d749-62fa92d330f4"
      },
      "source": [
        "game = gomoku4.Gomoku4(6)\n",
        "p1 = player_zero.ZeroPlayer('p1', 1, game, model)\n",
        "game.play(*p1.play(game))\n",
        "game.show()"
      ],
      "execution_count": 112,
      "outputs": [
        {
          "output_type": "stream",
          "text": [
            "black played (2, 3).\n",
            "white's turn.\n",
            "   0 1 2 3 4 5\n",
            " 0 . . . . . . \n",
            " 1 . . . . . . \n",
            " 2 . . . . . . \n",
            " 3 . . ● . . . \n",
            " 4 . . . . . . \n",
            " 5 . . . . . . \n"
          ],
          "name": "stdout"
        }
      ]
    },
    {
      "cell_type": "code",
      "metadata": {
        "colab": {
          "base_uri": "https://localhost:8080/"
        },
        "id": "b6ggN12mudlx",
        "outputId": "8a7fdcd6-7ca7-4b2b-a76d-b8a6fd45b4e8"
      },
      "source": [
        "## Now human play here\n",
        "game.play(1,1)\n",
        "\n",
        "if not game.finished:\n",
        "    game.play(*p1.play(game))\n",
        "game.show()"
      ],
      "execution_count": 117,
      "outputs": [
        {
          "output_type": "stream",
          "text": [
            "white played (1, 1).\n",
            "black played (1, 5).\n",
            "game has ended. winner: black\n",
            "   0 1 2 3 4 5\n",
            " 0 . . . . . . \n",
            " 1 . ○ . . . . \n",
            " 2 . ● . ○ . . \n",
            " 3 ○ ● ● ● ○ . \n",
            " 4 . ● . ○ . . \n",
            " 5 . ● . . . . \n"
          ],
          "name": "stdout"
        }
      ]
    },
    {
      "cell_type": "code",
      "metadata": {
        "colab": {
          "base_uri": "https://localhost:8080/"
        },
        "id": "3P05d5Ogu7PV",
        "outputId": "a3db45c5-917d-4cda-f6a3-253f809aa5c6"
      },
      "source": [
        "##Here are the sequnce of moves\n",
        "game.episode"
      ],
      "execution_count": 120,
      "outputs": [
        {
          "output_type": "execute_result",
          "data": {
            "text/plain": [
              "[(2, 3),\n",
              " (3, 2),\n",
              " (1, 2),\n",
              " (3, 4),\n",
              " (3, 3),\n",
              " (4, 3),\n",
              " (1, 3),\n",
              " (0, 3),\n",
              " (1, 4),\n",
              " (1, 1),\n",
              " (1, 5)]"
            ]
          },
          "metadata": {
            "tags": []
          },
          "execution_count": 120
        }
      ]
    },
    {
      "cell_type": "markdown",
      "metadata": {
        "id": "VScziRgtvFi0"
      },
      "source": [
        "If Human goes first, human can always win. See if AI can catch a mistake"
      ]
    },
    {
      "cell_type": "code",
      "metadata": {
        "id": "UnHI7WClrIu3"
      },
      "source": [
        "game = gomoku4.Gomoku4(6)\n",
        "p2 = player_zero.ZeroPlayer('p2', -1, game, model)"
      ],
      "execution_count": 124,
      "outputs": []
    },
    {
      "cell_type": "code",
      "metadata": {
        "colab": {
          "base_uri": "https://localhost:8080/"
        },
        "id": "Dsg_EImcrnIN",
        "outputId": "87d0d6f6-419a-45b8-a092-d29038a61947"
      },
      "source": [
        "game.play(4,2)\n",
        "if not game.finished:\n",
        "    game.play(*p2.play(game))\n",
        "game.show()"
      ],
      "execution_count": 136,
      "outputs": [
        {
          "output_type": "stream",
          "text": [
            "white played (2, 5).\n",
            "black played (4, 2).\n",
            "game has ended. winner: black\n",
            "   0 1 2 3 4 5\n",
            " 0 ○ . . ● . . \n",
            " 1 ○ ● ○ ○ ○ ● \n",
            " 2 ● ○ ● ● ● ● \n",
            " 3 ○ ● ○ ○ ● . \n",
            " 4 . ● ○ ● . . \n",
            " 5 . . ○ . . . \n"
          ],
          "name": "stdout"
        }
      ]
    },
    {
      "cell_type": "code",
      "metadata": {
        "colab": {
          "base_uri": "https://localhost:8080/"
        },
        "id": "-n2DxykdwCit",
        "outputId": "770d70fa-e3d2-4635-b50d-a2f167a9f571"
      },
      "source": [
        "###  Here is the game history.\n",
        "###  For the most part it played reasonable moves\n",
        "###  But it missed some obvious moves that could win. Maybe it's not so strong as white. \n",
        "game.episode"
      ],
      "execution_count": 137,
      "outputs": [
        {
          "output_type": "execute_result",
          "data": {
            "text/plain": [
              "[(3, 2),\n",
              " (3, 3),\n",
              " (1, 4),\n",
              " (2, 3),\n",
              " (4, 3),\n",
              " (2, 1),\n",
              " (2, 2),\n",
              " (0, 3),\n",
              " (1, 3),\n",
              " (1, 2),\n",
              " (3, 0),\n",
              " (0, 1),\n",
              " (3, 4),\n",
              " (3, 1),\n",
              " (1, 1),\n",
              " (4, 1),\n",
              " (5, 1),\n",
              " (0, 0),\n",
              " (0, 2),\n",
              " (2, 4),\n",
              " (5, 2),\n",
              " (2, 5),\n",
              " (4, 2)]"
            ]
          },
          "metadata": {
            "tags": []
          },
          "execution_count": 137
        }
      ]
    },
    {
      "cell_type": "markdown",
      "metadata": {
        "id": "cp7dz95uwwlG"
      },
      "source": [
        "# Compare this AI against the AI that played 1000 games and then trained"
      ]
    },
    {
      "cell_type": "code",
      "metadata": {
        "id": "x3Yl1ME3TnJw"
      },
      "source": [
        "model2=player_zero.net(6)\n",
        "model2.load_weights('day1.h5')"
      ],
      "execution_count": 142,
      "outputs": []
    },
    {
      "cell_type": "markdown",
      "metadata": {
        "id": "NA1UT7f9xVR5"
      },
      "source": [
        "Since the current AI always win if it goes first, let it go second"
      ]
    },
    {
      "cell_type": "code",
      "metadata": {
        "colab": {
          "base_uri": "https://localhost:8080/"
        },
        "id": "39cjveMRxOzz",
        "outputId": "f5fdb386-59d5-4c2e-ac6d-5fbc3560bead"
      },
      "source": [
        "wincount = 0\n",
        "for i in range(20):\n",
        "    game = gomoku4.Gomoku4(6)\n",
        "    p1 = player_zero.ZeroPlayer('p1', +1, game, model2)\n",
        "    p2 = player_zero.ZeroPlayer('p2', -1, game, model)\n",
        "    pa, pb = p1, p2\n",
        "    while not game.finished:\n",
        "        game.play(*pa.play(game))\n",
        "        pa, pb = pb, pa\n",
        "    game.show()\n",
        "    if game.winner == -1:\n",
        "        wincount += 1"
      ],
      "execution_count": 143,
      "outputs": [
        {
          "output_type": "stream",
          "text": [
            "black played (3, 4).\n",
            "white played (5, 5).\n",
            "game has ended. winner: white\n",
            "   0 1 2 3 4 5\n",
            " 0 . . . . . . \n",
            " 1 . . . . . . \n",
            " 2 . . ○ . . . \n",
            " 3 . ● ● ○ . . \n",
            " 4 . . . ● ○ . \n",
            " 5 . . ● . . ○ \n",
            "black played (0, 2).\n",
            "white played (5, 0).\n",
            "game has ended. winner: white\n",
            "   0 1 2 3 4 5\n",
            " 0 . . ● ● . ○ \n",
            " 1 . . . . ○ . \n",
            " 2 ● . . ○ . ● \n",
            " 3 . . ○ . . . \n",
            " 4 . . . . ○ . \n",
            " 5 . ● . . . . \n",
            "black played (0, 3).\n",
            "white played (4, 0).\n",
            "game has ended. winner: white\n",
            "   0 1 2 3 4 5\n",
            " 0 ○ . ● . ○ . \n",
            " 1 ● ● . ○ . . \n",
            " 2 . ● ○ ● . ● \n",
            " 3 ● ○ ○ ○ . . \n",
            " 4 . . ● ○ ○ ○ \n",
            " 5 ● ● ● ○ ○ ● \n",
            "black played (4, 4).\n",
            "white played (2, 5).\n",
            "game has ended. winner: white\n",
            "   0 1 2 3 4 5\n",
            " 0 . ● . . . . \n",
            " 1 . . . . ● . \n",
            " 2 ○ . ○ . ● . \n",
            " 3 . . ○ . . . \n",
            " 4 . . ○ ● ● . \n",
            " 5 . . ○ . . . \n",
            "black played (4, 2).\n",
            "white played (1, 3).\n",
            "game has ended. winner: white\n",
            "   0 1 2 3 4 5\n",
            " 0 . . ● . . . \n",
            " 1 . . . . . . \n",
            " 2 . . . . ● . \n",
            " 3 . ○ ○ ○ ○ . \n",
            " 4 . . ● . . . \n",
            " 5 . ● . . . . \n",
            "black played (1, 3).\n",
            "white played (1, 2).\n",
            "game has ended. winner: white\n",
            "   0 1 2 3 4 5\n",
            " 0 . ○ . . . . \n",
            " 1 . ● ○ . . . \n",
            " 2 . ○ ○ ○ ○ . \n",
            " 3 . ● . ○ ● . \n",
            " 4 . . ● ● ○ ● \n",
            " 5 ● . . . . ● \n",
            "black played (4, 2).\n",
            "white played (2, 5).\n",
            "game has ended. winner: white\n",
            "   0 1 2 3 4 5\n",
            " 0 . . . . . ● \n",
            " 1 . ● . . . . \n",
            " 2 ● . ○ . ● . \n",
            " 3 . . ○ . . . \n",
            " 4 . . ○ . . . \n",
            " 5 . . ○ . . . \n",
            "black played (0, 5).\n",
            "white played (5, 4).\n",
            "game has ended. winner: white\n",
            "   0 1 2 3 4 5\n",
            " 0 . ● . . . . \n",
            " 1 . . ○ . . . \n",
            " 2 . . ● ○ . . \n",
            " 3 . . . . ○ . \n",
            " 4 . ● . . . ○ \n",
            " 5 ● . . . . . \n",
            "black played (4, 4).\n",
            "white played (1, 5).\n",
            "game has ended. winner: white\n",
            "   0 1 2 3 4 5\n",
            " 0 . . . . ● . \n",
            " 1 . . . . . . \n",
            " 2 . . . . ○ . \n",
            " 3 . . ● ○ ● . \n",
            " 4 . . ○ . ● . \n",
            " 5 . ○ . . . . \n",
            "black played (1, 0).\n",
            "white played (0, 4).\n",
            "game has ended. winner: white\n",
            "   0 1 2 3 4 5\n",
            " 0 . ● . . . . \n",
            " 1 . . . ○ . . \n",
            " 2 . . ○ . . ● \n",
            " 3 . ○ . . . . \n",
            " 4 ○ ● . . . . \n",
            " 5 . . . . . ● \n",
            "black played (4, 1).\n",
            "white played (2, 1).\n",
            "game has ended. winner: white\n",
            "   0 1 2 3 4 5\n",
            " 0 . . . . . . \n",
            " 1 ● . ○ ● ● . \n",
            " 2 . . ○ . . . \n",
            " 3 . . ○ ○ . . \n",
            " 4 . . ○ ● ● . \n",
            " 5 . . . . . . \n",
            "black played (3, 5).\n",
            "white played (0, 3).\n",
            "game has ended. winner: white\n",
            "   0 1 2 3 4 5\n",
            " 0 . . . . . . \n",
            " 1 . ● . . . . \n",
            " 2 . . . . . ● \n",
            " 3 ○ ○ ○ ○ . . \n",
            " 4 . ● . . . . \n",
            " 5 . . . ● . . \n",
            "black played (1, 3).\n",
            "white played (3, 0).\n",
            "game has ended. winner: white\n",
            "   0 1 2 3 4 5\n",
            " 0 . . . ○ . . \n",
            " 1 . ● . ○ . . \n",
            " 2 ● ○ ● ○ ○ . \n",
            " 3 . ● . ○ . . \n",
            " 4 . . . . . . \n",
            " 5 . . ● . . ● \n",
            "black played (4, 3).\n",
            "white played (3, 0).\n",
            "game has ended. winner: white\n",
            "   0 1 2 3 4 5\n",
            " 0 . . . ○ . . \n",
            " 1 . . . ○ ● . \n",
            " 2 . . . ○ . . \n",
            " 3 . ● . ○ ● . \n",
            " 4 . . ● . . . \n",
            " 5 . . . . . . \n",
            "black played (2, 2).\n",
            "white played (0, 3).\n",
            "game has ended. winner: white\n",
            "   0 1 2 3 4 5\n",
            " 0 . . . . . . \n",
            " 1 . . . ● . . \n",
            " 2 . ● ● . . . \n",
            " 3 ○ ○ ○ ○ . . \n",
            " 4 . ● . . . . \n",
            " 5 . . . . . . \n",
            "black played (3, 1).\n",
            "white played (0, 2).\n",
            "game has ended. winner: white\n",
            "   0 1 2 3 4 5\n",
            " 0 ● . . . . . \n",
            " 1 . . ● ● . . \n",
            " 2 ○ ○ ○ ○ . . \n",
            " 3 . . . . . . \n",
            " 4 ● . . . ● . \n",
            " 5 . . ○ . . . \n",
            "black played (5, 5).\n",
            "white played (5, 0).\n",
            "game has ended. winner: none\n",
            "   0 1 2 3 4 5\n",
            " 0 ● ○ ● ○ ○ ○ \n",
            " 1 ● ○ ● ○ ○ ● \n",
            " 2 ● ● ○ ● ● ○ \n",
            " 3 ○ ● ○ ○ ○ ● \n",
            " 4 ● ● ○ ○ ● ● \n",
            " 5 ○ ○ ● ○ ● ● \n",
            "black played (5, 0).\n",
            "white played (0, 1).\n",
            "game has ended. winner: white\n",
            "   0 1 2 3 4 5\n",
            " 0 . . . . . ● \n",
            " 1 ○ ○ ○ ○ . . \n",
            " 2 . . . . . . \n",
            " 3 . . ● . . . \n",
            " 4 . . . . . . \n",
            " 5 . . ● ● . . \n",
            "black played (0, 5).\n",
            "white played (1, 2).\n",
            "game has ended. winner: white\n",
            "   0 1 2 3 4 5\n",
            " 0 . . . . . . \n",
            " 1 . . ● . . . \n",
            " 2 . ○ ○ ○ ○ . \n",
            " 3 . . . . . . \n",
            " 4 . . . . . . \n",
            " 5 ● ● . . ● . \n",
            "black played (2, 3).\n",
            "white played (5, 5).\n",
            "game has ended. winner: white\n",
            "   0 1 2 3 4 5\n",
            " 0 . . . . . . \n",
            " 1 . . ● . . . \n",
            " 2 . . ○ ● ● . \n",
            " 3 . . ● ○ . . \n",
            " 4 . . . . ○ . \n",
            " 5 . . . . . ○ \n"
          ],
          "name": "stdout"
        }
      ]
    },
    {
      "cell_type": "code",
      "metadata": {
        "colab": {
          "base_uri": "https://localhost:8080/"
        },
        "id": "V4FCPztrzQ14",
        "outputId": "859602bf-8b1c-4fbb-83a0-cfa74955d42a"
      },
      "source": [
        "print('won '+str(wincount)+' out of 20 games')"
      ],
      "execution_count": 145,
      "outputs": [
        {
          "output_type": "stream",
          "text": [
            "won 19 out of 20 games\n"
          ],
          "name": "stdout"
        }
      ]
    },
    {
      "cell_type": "code",
      "metadata": {
        "id": "PWU1f1I_03cx"
      },
      "source": [
        ""
      ],
      "execution_count": null,
      "outputs": []
    }
  ]
}