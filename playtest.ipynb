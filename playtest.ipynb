{
 "cells": [
  {
   "cell_type": "code",
   "execution_count": 1,
   "metadata": {},
   "outputs": [],
   "source": [
    "import numpy as np\n",
    "from scipy.special import softmax\n",
    "import gomoku, player_basic\n",
    "\n",
    "# for auto-reloading external modules\n",
    "%load_ext autoreload\n",
    "%autoreload 2"
   ]
  },
  {
   "cell_type": "markdown",
   "metadata": {},
   "source": [
    "# Playtest"
   ]
  },
  {
   "cell_type": "code",
   "execution_count": 15,
   "metadata": {},
   "outputs": [],
   "source": [
    "game = gomoku.Gomoku(15)\n",
    "opponent = player_basic.FeaturePlayer('cp', -1) # human goes first, cp goes second"
   ]
  },
  {
   "cell_type": "code",
   "execution_count": 16,
   "metadata": {},
   "outputs": [
    {
     "name": "stdout",
     "output_type": "stream",
     "text": [
      "   0 1 2 3 4 5 6 7 8 91011121314\n",
      " 0 . . . . . . . . . . . . . . . \n",
      " 1 . . . . . . . . . . . . . . . \n",
      " 2 . . . . . . . . . . . . . . . \n",
      " 3 . . . . . . . . . . . . . . . \n",
      " 4 . . . . . . . . . . . . . . . \n",
      " 5 . . . . . . . . . . . . . . . \n",
      " 6 . . . . . . . . ○ . . . . . . \n",
      " 7 . . . . . . . ● . . . . . . . \n",
      " 8 . . . . . . . . . . . . . . . \n",
      " 9 . . . . . . . . . . . . . . . \n",
      "10 . . . . . . . . . . . . . . . \n",
      "11 . . . . . . . . . . . . . . . \n",
      "12 . . . . . . . . . . . . . . . \n",
      "13 . . . . . . . . . . . . . . . \n",
      "14 . . . . . . . . . . . . . . . \n"
     ]
    }
   ],
   "source": [
    "game.play(7, 7) # human move\n",
    "if not game.finished:\n",
    "    game.play(*opponent.play(game)) # cp plays random move\n",
    "else:\n",
    "    print(\"game has ended\")\n",
    "game.show()"
   ]
  },
  {
   "cell_type": "markdown",
   "metadata": {},
   "source": [
    "# Testing: PGFeaturePlayer"
   ]
  },
  {
   "cell_type": "code",
   "execution_count": 4,
   "metadata": {},
   "outputs": [],
   "source": [
    "p1 = player_basic.PGFeaturePlayer('player1', 0, epsilon=0.2, discount=.5)\n",
    "p2 = player_basic.PGFeaturePlayer('player2', 0, epsilon=0.2, discount=.5)\n",
    "p2.w = p1.w\n",
    "#p1.theta = np.array([1, 4, 9, 16, 1, 4, 9, 16, 0], dtype=float)\n",
    "p2.theta = p1.theta"
   ]
  },
  {
   "cell_type": "code",
   "execution_count": 5,
   "metadata": {},
   "outputs": [
    {
     "name": "stdout",
     "output_type": "stream",
     "text": [
      "0, 10, 20, 30, 40, 50, 60, 70, 80, 90, 100, 110, 120, 130, 140, 150, 160, 170, 180, 190, 200, 210, 220, 230, 240, 250, 260, 270, 280, 290, 300, 310, 320, 330, 340, 350, 360, 370, 380, 390, 400, 410, 420, 430, 440, 450, 460, 470, 480, 490, 500, 510, 520, 530, 540, 550, 560, 570, 580, 590, 600, 610, 620, 630, 640, 650, 660, 670, 680, 690, 700, 710, 720, 730, 740, 750, 760, 770, 780, 790, 800, 810, 820, 830, 840, 850, 860, 870, 880, 890, 900, 910, 920, 930, 940, 950, 960, 970, 980, 990, "
     ]
    }
   ],
   "source": [
    "for i in range(1000):\n",
    "    if i%10 == 0:\n",
    "        print(i, end=', ')\n",
    "    game = gomoku.Gomoku(9)\n",
    "    p1color = np.random.choice([1, -1])\n",
    "    p1.piece = p1color\n",
    "    p2.piece = -p1color\n",
    "\n",
    "    players = [p1, p2]\n",
    "    turn = (1-p1color)//2\n",
    "    while not game.finished:\n",
    "        game.play(*players[turn].play(game))\n",
    "        turn = (turn+1)%2\n",
    "    \n",
    "    if game.winner == p1color:\n",
    "        p1_grads = p1.get_grad(game, game._moves_left)\n",
    "        p2_grads = p2.get_grad(game, 0)\n",
    "    elif game.winner == -p1color:\n",
    "        p1_grads = p1.get_grad(game, 0)\n",
    "        p2_grads = p2.get_grad(game, game._moves_left)\n",
    "    else:\n",
    "        p1_grads = p1.get_grad(game, 0)\n",
    "        p2_grads = p2.get_grad(game, 0)\n",
    "        \n",
    "    p1.step(*p1_grads)\n",
    "    p1.step(*p2_grads)\n",
    "        "
   ]
  },
  {
   "cell_type": "code",
   "execution_count": 6,
   "metadata": {},
   "outputs": [
    {
     "name": "stdout",
     "output_type": "stream",
     "text": [
      "[-0.4438557   2.10728522  4.88845041 56.49641025 -0.1571059   1.36152001\n",
      "  2.83119083  1.59147876  0.43840969]\n",
      "[1091.07541865  689.28576433  364.59349983  549.06335662  286.92921895\n",
      "  332.55599919  320.35881683  227.78670044  447.56076629]\n"
     ]
    }
   ],
   "source": [
    "print(p1.w)\n",
    "print(p1.theta)"
   ]
  },
  {
   "cell_type": "code",
   "execution_count": 7,
   "metadata": {},
   "outputs": [],
   "source": [
    "game = gomoku.Gomoku(15)\n",
    "p1.piece = +1\n",
    "p2.piece = -1"
   ]
  },
  {
   "cell_type": "code",
   "execution_count": 8,
   "metadata": {},
   "outputs": [],
   "source": [
    "game.play(7, 7)"
   ]
  },
  {
   "cell_type": "code",
   "execution_count": 22,
   "metadata": {},
   "outputs": [
    {
     "ename": "AssertionError",
     "evalue": "game has ended",
     "output_type": "error",
     "traceback": [
      "\u001b[0;31m---------------------------------------------------------------------------\u001b[0m",
      "\u001b[0;31mAssertionError\u001b[0m                            Traceback (most recent call last)",
      "\u001b[0;32m<ipython-input-22-af2bda52a05b>\u001b[0m in \u001b[0;36m<module>\u001b[0;34m\u001b[0m\n\u001b[0;32m----> 1\u001b[0;31m \u001b[0mgame\u001b[0m\u001b[0;34m.\u001b[0m\u001b[0mplay\u001b[0m\u001b[0;34m(\u001b[0m\u001b[0;34m*\u001b[0m\u001b[0mp1\u001b[0m\u001b[0;34m.\u001b[0m\u001b[0mplay\u001b[0m\u001b[0;34m(\u001b[0m\u001b[0mgame\u001b[0m\u001b[0;34m)\u001b[0m\u001b[0;34m)\u001b[0m\u001b[0;34m\u001b[0m\u001b[0;34m\u001b[0m\u001b[0m\n\u001b[0m\u001b[1;32m      2\u001b[0m \u001b[0mgame\u001b[0m\u001b[0;34m.\u001b[0m\u001b[0mplay\u001b[0m\u001b[0;34m(\u001b[0m\u001b[0;34m*\u001b[0m\u001b[0mp2\u001b[0m\u001b[0;34m.\u001b[0m\u001b[0mplay\u001b[0m\u001b[0;34m(\u001b[0m\u001b[0mgame\u001b[0m\u001b[0;34m)\u001b[0m\u001b[0;34m)\u001b[0m\u001b[0;34m\u001b[0m\u001b[0;34m\u001b[0m\u001b[0m\n\u001b[1;32m      3\u001b[0m \u001b[0mgame\u001b[0m\u001b[0;34m.\u001b[0m\u001b[0mshow\u001b[0m\u001b[0;34m(\u001b[0m\u001b[0;34m)\u001b[0m\u001b[0;34m\u001b[0m\u001b[0;34m\u001b[0m\u001b[0m\n",
      "\u001b[0;32m~/Google Drive/UCLA/ECE239/Gomoku-project/gomoku.py\u001b[0m in \u001b[0;36mplay\u001b[0;34m(self, x, y)\u001b[0m\n\u001b[1;32m     53\u001b[0m \u001b[0;34m\u001b[0m\u001b[0m\n\u001b[1;32m     54\u001b[0m     \u001b[0;32mdef\u001b[0m \u001b[0mplay\u001b[0m\u001b[0;34m(\u001b[0m\u001b[0mself\u001b[0m\u001b[0;34m,\u001b[0m \u001b[0mx\u001b[0m\u001b[0;34m,\u001b[0m \u001b[0my\u001b[0m\u001b[0;34m)\u001b[0m\u001b[0;34m:\u001b[0m\u001b[0;34m\u001b[0m\u001b[0;34m\u001b[0m\u001b[0m\n\u001b[0;32m---> 55\u001b[0;31m         \u001b[0;32massert\u001b[0m \u001b[0;32mnot\u001b[0m \u001b[0mself\u001b[0m\u001b[0;34m.\u001b[0m\u001b[0mfinished\u001b[0m\u001b[0;34m,\u001b[0m \u001b[0;34m\"game has ended\"\u001b[0m\u001b[0;34m\u001b[0m\u001b[0;34m\u001b[0m\u001b[0m\n\u001b[0m\u001b[1;32m     56\u001b[0m         \u001b[0;32massert\u001b[0m \u001b[0mself\u001b[0m\u001b[0;34m.\u001b[0m\u001b[0mboard\u001b[0m\u001b[0;34m[\u001b[0m\u001b[0mx\u001b[0m\u001b[0;34m,\u001b[0m \u001b[0my\u001b[0m\u001b[0;34m]\u001b[0m \u001b[0;34m==\u001b[0m \u001b[0;36m0\u001b[0m\u001b[0;34m,\u001b[0m \u001b[0;34m\"invalid move\"\u001b[0m\u001b[0;34m\u001b[0m\u001b[0;34m\u001b[0m\u001b[0m\n\u001b[1;32m     57\u001b[0m         \u001b[0mself\u001b[0m\u001b[0;34m.\u001b[0m\u001b[0mboard\u001b[0m\u001b[0;34m[\u001b[0m\u001b[0mx\u001b[0m\u001b[0;34m,\u001b[0m \u001b[0my\u001b[0m\u001b[0;34m]\u001b[0m \u001b[0;34m=\u001b[0m \u001b[0mself\u001b[0m\u001b[0;34m.\u001b[0m\u001b[0m_curr_player\u001b[0m\u001b[0;34m\u001b[0m\u001b[0;34m\u001b[0m\u001b[0m\n",
      "\u001b[0;31mAssertionError\u001b[0m: game has ended"
     ]
    }
   ],
   "source": [
    "game.play(*p1.play(game))\n",
    "game.play(*p2.play(game))\n",
    "game.show()"
   ]
  },
  {
   "cell_type": "code",
   "execution_count": 243,
   "metadata": {},
   "outputs": [],
   "source": [
    "p1 = player_basic.PGFeaturePlayer('player1', 0)\n",
    "p2 = player_basic.FeaturePlayer('player2', 0)"
   ]
  },
  {
   "cell_type": "code",
   "execution_count": 244,
   "metadata": {},
   "outputs": [
    {
     "name": "stdout",
     "output_type": "stream",
     "text": [
      "0, 10, 20, 30, 40, 50, 60, 70, 80, 90, 100, 110, 120, 130, 140, 150, 160, 170, 180, 190, 200, 210, 220, 230, 240, 250, 260, 270, 280, 290, 300, 310, 320, 330, 340, 350, 360, 370, 380, 390, 400, 410, 420, 430, 440, 450, 460, 470, 480, 490, 500, 510, 520, 530, 540, 550, 560, 570, 580, 590, 600, 610, 620, 630, 640, 650, 660, 670, 680, 690, 700, 710, 720, 730, 740, 750, 760, 770, 780, 790, 800, 810, 820, 830, 840, 850, 860, 870, 880, 890, 900, 910, 920, 930, 940, 950, 960, 970, 980, 990, "
     ]
    }
   ],
   "source": [
    "for i in range(1000):\n",
    "    if i%10 == 0:\n",
    "        print(i, end=', ')\n",
    "    game = gomoku.Gomoku(9)\n",
    "    p1color = np.random.choice([1, -1])\n",
    "    p1.piece = p1color\n",
    "    p2.piece = -p1color\n",
    "\n",
    "    players = [p1, p2]\n",
    "    turn = (1-p1color)//2\n",
    "    while not game.finished:\n",
    "        game.play(*players[turn].play(game))\n",
    "        turn = (turn+1)%2\n",
    "    \n",
    "    if game.winner == p1color:\n",
    "        p1_grads = p1.get_grad(game, 1.)\n",
    "        #p2_grads = p2.get_grad(game, -1.)\n",
    "    elif game.winner == -p1color:\n",
    "        p1_grads = p1.get_grad(game, -1.)\n",
    "        #p2_grads = p2.get_grad(game, 1.)\n",
    "    else:\n",
    "        p1_grads = p1.get_grad(game, 0.)\n",
    "        #p2_grads = p2.get_grad(game, 0.)\n",
    "        \n",
    "    p1.step(*p1_grads)\n",
    "    #p1.step(*p2_grads)\n",
    "        "
   ]
  },
  {
   "cell_type": "code",
   "execution_count": 245,
   "metadata": {},
   "outputs": [
    {
     "name": "stdout",
     "output_type": "stream",
     "text": [
      "[-0.15362757 -0.03364655  0.          0.         -0.0740043  -0.00073599\n",
      " -0.03723498 -0.00846379 -0.62696604]\n",
      "[-0.83542265 -3.15222877 -3.1762802  -3.17800188 -0.48550833 -2.91121014\n",
      " -3.05746383 -3.03022919 -6.35600376]\n"
     ]
    }
   ],
   "source": [
    "print(p1.w)\n",
    "print(p1.theta)"
   ]
  },
  {
   "cell_type": "code",
   "execution_count": 255,
   "metadata": {},
   "outputs": [],
   "source": [
    "game = gomoku.Gomoku(9)\n",
    "p1.piece = +1\n",
    "p2.piece = -1"
   ]
  },
  {
   "cell_type": "code",
   "execution_count": 256,
   "metadata": {},
   "outputs": [
    {
     "name": "stdout",
     "output_type": "stream",
     "text": [
      "[0.01234568 0.01234568 0.01234568 0.01234568 0.01234568 0.01234568\n",
      " 0.01234568 0.01234568 0.01234568 0.01234568 0.01234568 0.01234568\n",
      " 0.01234568 0.01234568 0.01234568 0.01234568 0.01234568 0.01234568\n",
      " 0.01234568 0.01234568 0.01234568 0.01234568 0.01234568 0.01234568\n",
      " 0.01234568 0.01234568 0.01234568 0.01234568 0.01234568 0.01234568\n",
      " 0.01234568 0.01234568 0.01234568 0.01234568 0.01234568 0.01234568\n",
      " 0.01234568 0.01234568 0.01234568 0.01234568 0.01234568 0.01234568\n",
      " 0.01234568 0.01234568 0.01234568 0.01234568 0.01234568 0.01234568\n",
      " 0.01234568 0.01234568 0.01234568 0.01234568 0.01234568 0.01234568\n",
      " 0.01234568 0.01234568 0.01234568 0.01234568 0.01234568 0.01234568\n",
      " 0.01234568 0.01234568 0.01234568 0.01234568 0.01234568 0.01234568\n",
      " 0.01234568 0.01234568 0.01234568 0.01234568 0.01234568 0.01234568\n",
      " 0.01234568 0.01234568 0.01234568 0.01234568 0.01234568 0.01234568\n",
      " 0.01234568 0.01234568 0.01234568]\n",
      "   0 1 2 3 4 5 6 7 8\n",
      " 0 . . . . . . . . . \n",
      " 1 . . . . . . . . . \n",
      " 2 . . . . . . . . . \n",
      " 3 . . . . . . . . . \n",
      " 4 . . . . . . . . . \n",
      " 5 . . . . . . . . . \n",
      " 6 . . . . . . . . . \n",
      " 7 . . . . ● ○ . . . \n",
      " 8 . . . . . . . . . \n"
     ]
    }
   ],
   "source": [
    "game.play(*p1.play(game))\n",
    "game.play(*p2.play(game))\n",
    "game.show()"
   ]
  },
  {
   "cell_type": "code",
   "execution_count": 257,
   "metadata": {},
   "outputs": [
    {
     "data": {
      "text/plain": [
       "array([-0.83542265, -3.15222877, -3.1762802 , -3.17800188, -0.48550833,\n",
       "       -2.91121014, -3.05746383, -3.03022919, -6.35600376])"
      ]
     },
     "execution_count": 257,
     "metadata": {},
     "output_type": "execute_result"
    }
   ],
   "source": [
    "p1.theta"
   ]
  },
  {
   "cell_type": "code",
   "execution_count": 260,
   "metadata": {},
   "outputs": [
    {
     "data": {
      "text/plain": [
       "array([[-6.35600376, -6.35600376, -6.35600376, -6.35600376, -6.35600376,\n",
       "        -6.35600376, -6.35600376, -6.35600376, -6.35600376],\n",
       "       [-6.35600376, -6.35600376, -6.35600376, -6.35600376, -6.35600376,\n",
       "        -6.35600376, -6.35600376, -6.35600376, -6.35600376],\n",
       "       [-6.35600376, -6.35600376, -6.35600376, -6.35600376, -6.35600376,\n",
       "        -6.35600376, -6.35600376, -6.35600376, -6.35600376],\n",
       "       [-6.35600376, -6.35600376, -6.35600376, -6.35600376, -6.35600376,\n",
       "        -6.35600376, -7.1914264 , -7.1914264 , -7.1914264 ],\n",
       "       [-6.35600376, -6.35600376, -6.35600376, -6.35600376, -6.35600376,\n",
       "        -6.35600376, -7.67693473, 26.18234874, -7.67693473],\n",
       "       [-6.35600376, -6.35600376, -6.35600376, -6.35600376, -6.35600376,\n",
       "        -6.35600376, -7.67693473, 26.18234874, -7.67693473],\n",
       "       [-6.35600376, -6.35600376, -6.35600376, -6.35600376, -6.35600376,\n",
       "        -6.35600376, -6.84151208, -6.84151208, -6.84151208],\n",
       "       [-6.35600376, -6.35600376, -6.35600376, -6.35600376, -6.35600376,\n",
       "        -6.35600376, -6.35600376, -6.35600376, -6.35600376],\n",
       "       [-6.35600376, -6.35600376, -6.35600376, -6.35600376, -6.35600376,\n",
       "        -6.35600376, -6.35600376, -6.35600376, -6.35600376]])"
      ]
     },
     "execution_count": 260,
     "metadata": {},
     "output_type": "execute_result"
    }
   ],
   "source": [
    "p1.get_features(game) @ p1.theta"
   ]
  },
  {
   "cell_type": "code",
   "execution_count": 261,
   "metadata": {},
   "outputs": [
    {
     "data": {
      "text/plain": [
       "array([-0.83542265, -3.15222877, -3.1762802 , -3.17800188, -0.48550833,\n",
       "       -2.91121014, -3.05746383, -3.03022919, -6.35600376])"
      ]
     },
     "execution_count": 261,
     "metadata": {},
     "output_type": "execute_result"
    }
   ],
   "source": [
    "p1.theta"
   ]
  },
  {
   "cell_type": "code",
   "execution_count": null,
   "metadata": {},
   "outputs": [],
   "source": []
  }
 ],
 "metadata": {
  "kernelspec": {
   "display_name": "Python 3",
   "language": "python",
   "name": "python3"
  },
  "language_info": {
   "codemirror_mode": {
    "name": "ipython",
    "version": 3
   },
   "file_extension": ".py",
   "mimetype": "text/x-python",
   "name": "python",
   "nbconvert_exporter": "python",
   "pygments_lexer": "ipython3",
   "version": "3.8.5"
  }
 },
 "nbformat": 4,
 "nbformat_minor": 4
}
