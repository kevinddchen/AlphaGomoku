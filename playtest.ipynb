{
 "cells": [
  {
   "cell_type": "code",
   "execution_count": 1,
   "metadata": {},
   "outputs": [],
   "source": [
    "import numpy as np\n",
    "import gomoku, player_basic\n",
    "\n",
    "# for auto-reloading external modules\n",
    "%load_ext autoreload\n",
    "%autoreload 2"
   ]
  },
  {
   "cell_type": "code",
   "execution_count": 13,
   "metadata": {},
   "outputs": [],
   "source": [
    "game = gomoku.Gomoku(15)\n",
    "opponent = player_basic.FeaturePlayer('cp', -1) # human goes first, cp goes second"
   ]
  },
  {
   "cell_type": "code",
   "execution_count": 20,
   "metadata": {},
   "outputs": [
    {
     "name": "stdout",
     "output_type": "stream",
     "text": [
      "game has ended\n",
      "   0 1 2 3 4 5 6 7 8 91011121314\n",
      " 0 . . . . . . . . . . . . . . . \n",
      " 1 . . . . . . . . . . . . . . . \n",
      " 2 . . . . . . . . . . . . . . . \n",
      " 3 . . . . . . . . . . . . . . . \n",
      " 4 . . . . . . . . . . . . . . . \n",
      " 5 . . ● . . . . . . . . . . . . \n",
      " 6 . . . ● . . . . . . . . . . . \n",
      " 7 . . . . ● ○ ● ● ○ . . . . . . \n",
      " 8 . . . . . ● ○ ○ ○ . . . . . . \n",
      " 9 . . . . . . ● . . . . . . . . \n",
      "10 . . . . . . . ○ . . . . . . . \n",
      "11 . . . . . . . . . . . . . . . \n",
      "12 . . . . . . . . . . . . . . . \n",
      "13 . . . . . . . . . . . . . . . \n",
      "14 . . . . . . . . . . . . . . . \n"
     ]
    }
   ],
   "source": [
    "game.play(2, 5) # human move\n",
    "if not game.finished:\n",
    "    game.play(*opponent.play(game)) # cp plays random move\n",
    "else:\n",
    "    print(\"game has ended\")\n",
    "game.show()"
   ]
  },
  {
   "cell_type": "code",
   "execution_count": 21,
   "metadata": {},
   "outputs": [
    {
     "data": {
      "text/plain": [
       "[(7, 7),\n",
       " (7, 8),\n",
       " (6, 7),\n",
       " (8, 7),\n",
       " (6, 9),\n",
       " (6, 8),\n",
       " (5, 8),\n",
       " (8, 8),\n",
       " (4, 7),\n",
       " (5, 7),\n",
       " (3, 6),\n",
       " (7, 10),\n",
       " (2, 5)]"
      ]
     },
     "execution_count": 21,
     "metadata": {},
     "output_type": "execute_result"
    }
   ],
   "source": [
    "game.episode"
   ]
  },
  {
   "cell_type": "code",
   "execution_count": null,
   "metadata": {},
   "outputs": [],
   "source": []
  }
 ],
 "metadata": {
  "kernelspec": {
   "display_name": "Python 3",
   "language": "python",
   "name": "python3"
  },
  "language_info": {
   "codemirror_mode": {
    "name": "ipython",
    "version": 3
   },
   "file_extension": ".py",
   "mimetype": "text/x-python",
   "name": "python",
   "nbconvert_exporter": "python",
   "pygments_lexer": "ipython3",
   "version": "3.8.5"
  }
 },
 "nbformat": 4,
 "nbformat_minor": 4
}
