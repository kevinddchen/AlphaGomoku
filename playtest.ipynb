{
 "cells": [
  {
   "cell_type": "code",
   "execution_count": 1,
   "metadata": {},
   "outputs": [],
   "source": [
    "import numpy as np\n",
    "import gomoku, player_basic\n",
    "\n",
    "# for auto-reloading external modules\n",
    "%load_ext autoreload\n",
    "%autoreload 2"
   ]
  },
  {
   "cell_type": "markdown",
   "metadata": {},
   "source": [
    "# Playtest"
   ]
  },
  {
   "cell_type": "code",
   "execution_count": 173,
   "metadata": {},
   "outputs": [],
   "source": [
    "game = gomoku.Gomoku(15)\n",
    "opponent = player_basic.FeaturePlayer('cp', -1) # human goes first, cp goes second"
   ]
  },
  {
   "cell_type": "code",
   "execution_count": 175,
   "metadata": {},
   "outputs": [
    {
     "name": "stdout",
     "output_type": "stream",
     "text": [
      "black played (7, 8).\n",
      "white played (7, 9).\n",
      "   0 1 2 3 4 5 6 7 8 91011121314\n",
      " 0 . . . . . . . . . . . . . . . \n",
      " 1 . . . . . . . . . . . . . . . \n",
      " 2 . . . . . . . . . . . . . . . \n",
      " 3 . . . . . . . . . . . . . . . \n",
      " 4 . . . . . . . . . . . . . . . \n",
      " 5 . . . . . . . . . . . . . . . \n",
      " 6 . . . . . . . . . . . . . . . \n",
      " 7 . . . . . . . ● . . . . . . . \n",
      " 8 . . . . . . . ● ○ . . . . . . \n",
      " 9 . . . . . . . ○ . . . . . . . \n",
      "10 . . . . . . . . . . . . . . . \n",
      "11 . . . . . . . . . . . . . . . \n",
      "12 . . . . . . . . . . . . . . . \n",
      "13 . . . . . . . . . . . . . . . \n",
      "14 . . . . . . . . . . . . . . . \n"
     ]
    }
   ],
   "source": [
    "game.play(7, 8) # human move\n",
    "if not game.finished:\n",
    "    game.play(*opponent.play(game)) # cp plays random move\n",
    "game.show()"
   ]
  },
  {
   "cell_type": "markdown",
   "metadata": {},
   "source": [
    "# Testing: PGFeaturePlayer\n",
    "PGFeaturePlayer does not work and has been removed. The training code is left below for reference."
   ]
  },
  {
   "cell_type": "code",
   "execution_count": 4,
   "metadata": {},
   "outputs": [],
   "source": [
    "p1 = player_basic.PGFeaturePlayer('player1', 0, epsilon=0.2, discount=.5)\n",
    "p2 = player_basic.PGFeaturePlayer('player2', 0, epsilon=0.2, discount=.5)\n",
    "p2.w = p1.w\n",
    "#p1.theta = np.array([1, 4, 9, 16, 1, 4, 9, 16, 0], dtype=float)\n",
    "p2.theta = p1.theta"
   ]
  },
  {
   "cell_type": "code",
   "execution_count": 5,
   "metadata": {},
   "outputs": [
    {
     "name": "stdout",
     "output_type": "stream",
     "text": [
      "0, 10, 20, 30, 40, 50, 60, 70, 80, 90, 100, 110, 120, 130, 140, 150, 160, 170, 180, 190, 200, 210, 220, 230, 240, 250, 260, 270, 280, 290, 300, 310, 320, 330, 340, 350, 360, 370, 380, 390, 400, 410, 420, 430, 440, 450, 460, 470, 480, 490, 500, 510, 520, 530, 540, 550, 560, 570, 580, 590, 600, 610, 620, 630, 640, 650, 660, 670, 680, 690, 700, 710, 720, 730, 740, 750, 760, 770, 780, 790, 800, 810, 820, 830, 840, 850, 860, 870, 880, 890, 900, 910, 920, 930, 940, 950, 960, 970, 980, 990, "
     ]
    }
   ],
   "source": [
    "for i in range(1000):\n",
    "    if i%10 == 0:\n",
    "        print(i, end=', ')\n",
    "    game = gomoku.Gomoku(9)\n",
    "    p1color = np.random.choice([1, -1])\n",
    "    p1.piece = p1color\n",
    "    p2.piece = -p1color\n",
    "\n",
    "    players = [p1, p2]\n",
    "    turn = (1-p1color)//2\n",
    "    while not game.finished:\n",
    "        game.play(*players[turn].play(game))\n",
    "        turn = (turn+1)%2\n",
    "    \n",
    "    if game.winner == p1color:\n",
    "        p1_grads = p1.get_grad(game, game._moves_left)\n",
    "        p2_grads = p2.get_grad(game, 0)\n",
    "    elif game.winner == -p1color:\n",
    "        p1_grads = p1.get_grad(game, 0)\n",
    "        p2_grads = p2.get_grad(game, game._moves_left)\n",
    "    else:\n",
    "        p1_grads = p1.get_grad(game, 0)\n",
    "        p2_grads = p2.get_grad(game, 0)\n",
    "        \n",
    "    p1.step(*p1_grads)\n",
    "    p1.step(*p2_grads)\n",
    "        "
   ]
  }
 ],
 "metadata": {
  "kernelspec": {
   "display_name": "Python 3",
   "language": "python",
   "name": "python3"
  },
  "language_info": {
   "codemirror_mode": {
    "name": "ipython",
    "version": 3
   },
   "file_extension": ".py",
   "mimetype": "text/x-python",
   "name": "python",
   "nbconvert_exporter": "python",
   "pygments_lexer": "ipython3",
   "version": "3.8.5"
  }
 },
 "nbformat": 4,
 "nbformat_minor": 4
}
