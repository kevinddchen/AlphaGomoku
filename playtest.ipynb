{
 "cells": [
  {
   "cell_type": "code",
   "execution_count": null,
   "metadata": {},
   "outputs": [],
   "source": [
    "import numpy as np\n",
    "import tensorflow as tf\n",
    "import tensorflow.keras as keras\n",
    "\n",
    "import gomoku, player_basic, player_zero, player_zero4\n",
    "from time import time\n",
    "\n",
    "# for auto-reloading external modules\n",
    "%load_ext autoreload\n",
    "%autoreload 2"
   ]
  },
  {
   "cell_type": "code",
   "execution_count": null,
   "metadata": {},
   "outputs": [],
   "source": [
    "## Gobal parameters ==========\n",
    "SIZE = 9\n",
    "WIN = 5\n",
    "N_ITER = 500\n",
    "## ==========================="
   ]
  },
  {
   "cell_type": "markdown",
   "metadata": {},
   "source": [
    "# Playtest against cp"
   ]
  },
  {
   "cell_type": "code",
   "execution_count": null,
   "metadata": {},
   "outputs": [],
   "source": [
    "## ===human first?===========\n",
    "human_first = True\n",
    "## =======================\n",
    "\n",
    "game = gomoku.Gomoku(SIZE, WIN)\n",
    "cp_turn = -1 if human_first else +1"
   ]
  },
  {
   "cell_type": "markdown",
   "metadata": {},
   "source": [
    "**Pick opponent model**"
   ]
  },
  {
   "cell_type": "code",
   "execution_count": null,
   "metadata": {},
   "outputs": [],
   "source": [
    "## Baseline Model\n",
    "p2 = player_basic.FeaturePlayer('p2', cp_turn)"
   ]
  },
  {
   "cell_type": "code",
   "execution_count": null,
   "metadata": {},
   "outputs": [],
   "source": [
    "## AlphaGo Zero, 1-feature\n",
    "model2 = player_zero.net(SIZE)\n",
    "model2.load_weights('1feat 9x9/day26.h5')\n",
    "p2 = player_zero.ZeroPlayer('p2', cp_turn, game, model2, N_ITER)\n",
    "p2.tree.temp = .1 # reduce exploration"
   ]
  },
  {
   "cell_type": "code",
   "execution_count": null,
   "metadata": {},
   "outputs": [],
   "source": [
    "## AlphaGo Zero, 4-feature\n",
    "model2 = player_zero4.net(SIZE)\n",
    "model2.load_weights('4feat 9x9/day10.h5')\n",
    "p2 = player_zero4.ZeroPlayer('p2', cp_turn, game, model2, N_ITER)\n",
    "p2.tree.temp = .1 # reduce exploration"
   ]
  },
  {
   "cell_type": "markdown",
   "metadata": {},
   "source": [
    "**Play against 1-feature AI**"
   ]
  },
  {
   "cell_type": "code",
   "execution_count": null,
   "metadata": {},
   "outputs": [],
   "source": [
    "if not human_first:\n",
    "    game.play(*p2.play(game))\n",
    "game.show()"
   ]
  },
  {
   "cell_type": "code",
   "execution_count": null,
   "metadata": {},
   "outputs": [],
   "source": [
    "## play your move ==========\n",
    "game.play(4,4)\n",
    "## =========================\n",
    "\n",
    "t = time()\n",
    "if not game.finished:\n",
    "    game.play(*p2.play(game))\n",
    "game.show()\n",
    "print(\"time: {0:.3f}\".format(time() - t))"
   ]
  },
  {
   "cell_type": "markdown",
   "metadata": {},
   "source": [
    "# Playtest cp against cp"
   ]
  },
  {
   "cell_type": "code",
   "execution_count": null,
   "metadata": {},
   "outputs": [],
   "source": [
    "game = gomoku.Gomoku(SIZE, WIN)\n",
    "\n",
    "## ===edit players as you see fit======================\n",
    "## p1 is black\n",
    "model1 = player_zero4.net(SIZE)\n",
    "model1.load_weights('4feat 9x9/day10.h5')\n",
    "p1 = player_zero4.ZeroPlayer('p1', +1, game, model1, N_ITER)\n",
    "p1.tree.temp = .1 # reduce exploration\n",
    "\n",
    "## p2 is white\n",
    "model2 = player_zero4.net(SIZE)\n",
    "model2.load_weights('4feat 9x9/day9.h5')\n",
    "p2 = player_zero4.ZeroPlayer('p2', -1, game, model2, N_ITER)\n",
    "p2.tree.temp = .1 # reduce exploration\n",
    "## ====================================================\n",
    "\n",
    "pa, pb = p1, p2"
   ]
  },
  {
   "cell_type": "code",
   "execution_count": null,
   "metadata": {},
   "outputs": [],
   "source": [
    "t = time()\n",
    "#if not game.finished: # one move at a time\n",
    "while not game.finished: # play to terminal state\n",
    "    game.play(*pa.play(game))\n",
    "    pa, pb = pb, pa\n",
    "game.show()\n",
    "print(\"time: {0:.3f}\".format(time() - t))"
   ]
  },
  {
   "cell_type": "markdown",
   "metadata": {},
   "source": [
    "# Batchtest cp vs cp"
   ]
  },
  {
   "cell_type": "code",
   "execution_count": null,
   "metadata": {
    "scrolled": true
   },
   "outputs": [],
   "source": [
    "black_wins = 0\n",
    "white_wins = 0\n",
    "for i in range(10):\n",
    "    game = gomoku.Gomoku(SIZE, WIN)\n",
    "    ## ===edit players as you see fit======================\n",
    "    ## p1 is black\n",
    "    #p1 = player_basic.FeaturePlayer('p1', +1)\n",
    "    model1 = player_zero4.net(SIZE)\n",
    "    model1.load_weights('4feat 9x9/day10.h5')\n",
    "    p1 = player_zero4.ZeroPlayer('p1', +1, game, model1, N_ITER)\n",
    "    p1.tree.temp = .1 # reduce exploration\n",
    "\n",
    "    ## p2 is white\n",
    "    #p2 = player_basic.FeaturePlayer('p2', -1)\n",
    "    model2 = player_zero4.net(SIZE)\n",
    "    model2.load_weights('4feat 9x9/day9.h5')\n",
    "    p2 = player_zero4.ZeroPlayer('p2', -1, game, model2, N_ITER)\n",
    "    p2.tree.temp = .1 # reduce exploration\n",
    "    ## ====================================================\n",
    "    pa, pb = p1, p2\n",
    "\n",
    "    while not game.finished:\n",
    "        game.play(*pa.play(game))\n",
    "        pa, pb = pb, pa\n",
    "        \n",
    "    if game.winner == +1:\n",
    "        black_wins += 1\n",
    "    elif game.winner == -1:\n",
    "        white_wins += 1\n",
    "    \n",
    "    game.show()\n",
    "    \n",
    "print(\"\\nblack wins:\", wins)\n",
    "print(\"white wins:\", losses)"
   ]
  },
  {
   "cell_type": "code",
   "execution_count": null,
   "metadata": {},
   "outputs": [],
   "source": []
  }
 ],
 "metadata": {
  "kernelspec": {
   "display_name": "Python 3",
   "language": "python",
   "name": "python3"
  },
  "language_info": {
   "codemirror_mode": {
    "name": "ipython",
    "version": 3
   },
   "file_extension": ".py",
   "mimetype": "text/x-python",
   "name": "python",
   "nbconvert_exporter": "python",
   "pygments_lexer": "ipython3",
   "version": "3.8.5"
  }
 },
 "nbformat": 4,
 "nbformat_minor": 4
}
