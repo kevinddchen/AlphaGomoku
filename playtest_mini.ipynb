{
 "cells": [
  {
   "cell_type": "code",
   "execution_count": null,
   "metadata": {},
   "outputs": [],
   "source": [
    "## only run if using google Colab\n",
    "from google.colab import drive\n",
    "drive.mount('/content/drive')\n",
    "\n",
    "import os\n",
    "os.chdir('/content/drive/MyDrive/UCLA/ECE239/Gomoku-project/')"
   ]
  },
  {
   "cell_type": "code",
   "execution_count": null,
   "metadata": {},
   "outputs": [],
   "source": [
    "import numpy as np\n",
    "import tensorflow as tf\n",
    "import tensorflow.keras as keras\n",
    "\n",
    "import gomoku, player_basic, player_zero4 as player_zero\n",
    "from time import time\n",
    "\n",
    "# for auto-reloading external modules\n",
    "%load_ext autoreload\n",
    "%autoreload 2"
   ]
  },
  {
   "cell_type": "code",
   "execution_count": null,
   "metadata": {},
   "outputs": [],
   "source": [
    "## Gobal parameters ==========\n",
    "SIZE = 7\n",
    "WIN = 5\n",
    "N_ITER = 500\n",
    "## ==========================="
   ]
  },
  {
   "cell_type": "code",
   "execution_count": null,
   "metadata": {},
   "outputs": [],
   "source": [
    "model = player_zero.net(SIZE)\n",
    "model.load_weights('day0.h5')"
   ]
  },
  {
   "cell_type": "code",
   "execution_count": null,
   "metadata": {},
   "outputs": [],
   "source": [
    "## ==========\n",
    "BATCH_SIZE = 100\n",
    "START = 0\n",
    "END = 1\n",
    "PREFIX = 'day0'\n",
    "## ==========\n",
    "## save games frequently to prevent data loss\n",
    "## files are saved as 'PREFIX_i.tfrecords' for i = START, START+1, ..., END-1\n",
    "\n",
    "for i in range(START, END):\n",
    "    filename = PREFIX + '_' + str(i) + '.tfrecords'\n",
    "    with player_zero.GameRecorder(filename, SIZE) as recorder:\n",
    "        print(\"batch {0:2d}: \".format(i), end='')\n",
    "        for j in range(BATCH_SIZE):\n",
    "            print(j, end=',')\n",
    "            game = gomoku.Gomoku(SIZE, WIN)\n",
    "            p1 = player_zero.ZeroPlayer('p1', +1, game, model, recorder)\n",
    "            p2 = player_zero.ZeroPlayer('p2', -1, game, model, recorder)\n",
    "\n",
    "            pa, pb = p1, p2\n",
    "            while not game.finished:\n",
    "                game.play(*pa.play(game, N_ITER))\n",
    "                pa, pb = pb, pa\n",
    "        print()"
   ]
  }
 ],
 "metadata": {
  "kernelspec": {
   "display_name": "Python 3",
   "language": "python",
   "name": "python3"
  },
  "language_info": {
   "codemirror_mode": {
    "name": "ipython",
    "version": 3
   },
   "file_extension": ".py",
   "mimetype": "text/x-python",
   "name": "python",
   "nbconvert_exporter": "python",
   "pygments_lexer": "ipython3",
   "version": "3.8.10"
  }
 },
 "nbformat": 4,
 "nbformat_minor": 4
}
