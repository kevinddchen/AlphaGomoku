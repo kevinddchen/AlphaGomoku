{
 "cells": [
  {
   "cell_type": "code",
   "execution_count": 1,
   "metadata": {},
   "outputs": [],
   "source": [
    "import numpy as np\n",
    "import tensorflow as tf\n",
    "import tensorflow.keras as keras\n",
    "\n",
    "import gomoku, player_basic, player_mcts\n",
    "\n",
    "# for auto-reloading external modules\n",
    "%load_ext autoreload\n",
    "%autoreload 2"
   ]
  },
  {
   "cell_type": "markdown",
   "metadata": {},
   "source": [
    "# Playtest"
   ]
  },
  {
   "cell_type": "code",
   "execution_count": 12,
   "metadata": {},
   "outputs": [],
   "source": [
    "game = gomoku.Gomoku(9)\n",
    "model = player_mcts.net(9)"
   ]
  },
  {
   "cell_type": "code",
   "execution_count": 13,
   "metadata": {},
   "outputs": [],
   "source": [
    "opt = keras.optimizers.Adam(learning_rate=1e-4)\n",
    "policy_loss = keras.losses.BinaryCrossentropy(name='cross_entropy')\n",
    "value_loss = keras.losses.MeanSquaredError(name='mse')\n",
    "\n",
    "model.compile(optimizer=opt, \n",
    "              loss={'policy': policy_loss,\n",
    "                    'value': value_loss})"
   ]
  },
  {
   "cell_type": "code",
   "execution_count": 14,
   "metadata": {},
   "outputs": [],
   "source": [
    "recorder = player_mcts.GameRecorder('games_1.tfrecords')\n",
    "p1 = player_mcts.ZeroPlayer('p1', +1, game, model, recorder)\n",
    "p2 = player_mcts.ZeroPlayer('p2', -1, game, model, recorder)"
   ]
  },
  {
   "cell_type": "code",
   "execution_count": 15,
   "metadata": {},
   "outputs": [
    {
     "name": "stdout",
     "output_type": "stream",
     "text": [
      "black played (1, 5).\n",
      "white played (4, 1).\n",
      "game has ended. winner: white\n",
      "   0 1 2 3 4 5 6 7 8\n",
      " 0 ● ● . ● ● ○ . . ○ \n",
      " 1 ○ ○ ○ ○ ○ ○ . . . \n",
      " 2 ● . . . ● ○ . . . \n",
      " 3 ● . . . ● . ● . . \n",
      " 4 ● . . . ○ . ● . . \n",
      " 5 ● ● . ● ● ● ● ○ . \n",
      " 6 ○ ○ . . ● . ○ . . \n",
      " 7 ○ . ○ . . . . ○ . \n",
      " 8 . ○ . . ● . . ○ . \n"
     ]
    }
   ],
   "source": [
    "pa, pb = p1, p2\n",
    "while not game.finished:\n",
    "    game.play(*pa.play(game))\n",
    "    pa, pb = pb, pa\n",
    "\n",
    "game.show()"
   ]
  },
  {
   "cell_type": "code",
   "execution_count": 16,
   "metadata": {},
   "outputs": [],
   "source": [
    "recorder.close()"
   ]
  },
  {
   "cell_type": "code",
   "execution_count": 19,
   "metadata": {},
   "outputs": [],
   "source": [
    "data = recorder.fetch()"
   ]
  }
 ],
 "metadata": {
  "kernelspec": {
   "display_name": "Python 3",
   "language": "python",
   "name": "python3"
  },
  "language_info": {
   "codemirror_mode": {
    "name": "ipython",
    "version": 3
   },
   "file_extension": ".py",
   "mimetype": "text/x-python",
   "name": "python",
   "nbconvert_exporter": "python",
   "pygments_lexer": "ipython3",
   "version": "3.8.10"
  }
 },
 "nbformat": 4,
 "nbformat_minor": 4
}
