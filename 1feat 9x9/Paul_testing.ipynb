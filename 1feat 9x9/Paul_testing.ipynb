{
  "nbformat": 4,
  "nbformat_minor": 0,
  "metadata": {
    "colab": {
      "name": "Paul_testing",
      "provenance": [],
      "collapsed_sections": []
    },
    "kernelspec": {
      "name": "python3",
      "display_name": "Python 3"
    },
    "language_info": {
      "name": "python"
    }
  },
  "cells": [
    {
      "cell_type": "code",
      "metadata": {
        "id": "SafZxaTHKAJb"
      },
      "source": [
        "## only run if using google Colab \n",
        "## For just playing, don't need to run this.\n",
        "from google.colab import drive\n",
        "drive.mount('/content/drive')\n",
        "\n",
        "import os\n",
        "os.chdir('/content/drive/MyDrive/gomoku2/')"
      ],
      "execution_count": null,
      "outputs": []
    },
    {
      "cell_type": "code",
      "metadata": {
        "colab": {
          "base_uri": "https://localhost:8080/"
        },
        "id": "O6bMNdWfKcEj",
        "outputId": "d1d9604c-f11d-4ee5-c13e-10a057a8a19a"
      },
      "source": [
        "import numpy as np\n",
        "import tensorflow as tf\n",
        "import tensorflow.keras as keras\n",
        "\n",
        "import gomoku\n",
        "import Paul_player_zero\n",
        "from time import time\n",
        "# for auto-reloading external modules\n",
        "%load_ext autoreload\n",
        "%autoreload 2\n"
      ],
      "execution_count": 3,
      "outputs": [
        {
          "output_type": "stream",
          "text": [
            "The autoreload extension is already loaded. To reload it, use:\n",
            "  %reload_ext autoreload\n"
          ],
          "name": "stdout"
        }
      ]
    },
    {
      "cell_type": "code",
      "metadata": {
        "id": "SSowY2PyKn1S"
      },
      "source": [
        "## Gobal parameters ==========\n",
        "SIZE = 9\n",
        "WIN = 5\n",
        "N_ITER = 1200\n",
        "## ===========================\n",
        "model = Paul_player_zero.net(SIZE)\n",
        "model.load_weights('day26.h5')"
      ],
      "execution_count": 5,
      "outputs": []
    },
    {
      "cell_type": "code",
      "metadata": {
        "id": "NgBZs8AWK7OG"
      },
      "source": [
        ""
      ],
      "execution_count": null,
      "outputs": []
    },
    {
      "cell_type": "markdown",
      "metadata": {
        "id": "HClvYU74K_vA"
      },
      "source": [
        "## Human play against AI. Human goes first."
      ]
    },
    {
      "cell_type": "code",
      "metadata": {
        "id": "YVvjSMitLCU5"
      },
      "source": [
        "game = gomoku.Gomoku(SIZE)\n",
        "ai = Paul_player_zero.ZeroPlayer('AI', -1, game, model)\n",
        "ai.tree.temp = 0.1\n",
        "ai.tree.epsilon = 0"
      ],
      "execution_count": 6,
      "outputs": []
    },
    {
      "cell_type": "code",
      "metadata": {
        "colab": {
          "base_uri": "https://localhost:8080/"
        },
        "id": "2_D2RcvILhVj",
        "outputId": "eeb7250a-0665-4146-9da3-a1658e9b624f"
      },
      "source": [
        "### Your Move ##########\n",
        "game.play(3,0)\n",
        "########################\n",
        "if not game.finished:\n",
        "  game.play(*ai.play(game,N_ITER))\n",
        "game.show()"
      ],
      "execution_count": 23,
      "outputs": [
        {
          "output_type": "stream",
          "text": [
            "black played (3, 0).\n",
            "white played (8, 5).\n",
            "game has ended. winner: white\n",
            "   0 1 2 3 4 5 6 7 8\n",
            " 0 . . . ● . . . ● . \n",
            " 1 . . . ○ ○ ○ ● ○ ● \n",
            " 2 . ● . . ● ○ ● ○ . \n",
            " 3 . ● ○ ● . ● ○ ○ . \n",
            " 4 . . ● ○ ● ○ . ○ . \n",
            " 5 . ● . ● ○ . . ● ○ \n",
            " 6 ○ . ○ ● . ○ . . . \n",
            " 7 . . . . . . ● . . \n",
            " 8 . . . . . . . . . \n"
          ],
          "name": "stdout"
        }
      ]
    },
    {
      "cell_type": "markdown",
      "metadata": {
        "id": "yl1sxgaeMK6o"
      },
      "source": [
        "## Human play against AI. Human goes second."
      ]
    },
    {
      "cell_type": "code",
      "metadata": {
        "id": "kHo01uEbMPI9"
      },
      "source": [
        "game = gomoku.Gomoku(SIZE)\n",
        "ai = Paul_player_zero.ZeroPlayer('AI', 1, game, model)\n",
        "ai.tree.temp = 0.1\n",
        "ai.tree.epsilon = 0\n",
        "game.play(*ai.play(game,N_ITER))\n",
        "game.show()"
      ],
      "execution_count": null,
      "outputs": []
    },
    {
      "cell_type": "code",
      "metadata": {
        "id": "ieVZfypAMVZn"
      },
      "source": [
        "### Your Move ##########\n",
        "game.play(4,4)\n",
        "########################\n",
        "if not game.finished:\n",
        "  game.play(*ai.play(game,N_ITER))\n",
        "game.show()"
      ],
      "execution_count": null,
      "outputs": []
    },
    {
      "cell_type": "markdown",
      "metadata": {
        "id": "qNo97SLmLDm0"
      },
      "source": [
        "# AI self play"
      ]
    },
    {
      "cell_type": "code",
      "metadata": {
        "colab": {
          "base_uri": "https://localhost:8080/"
        },
        "id": "WZDZc9NHLGNv",
        "outputId": "f6adac4e-3c3c-496b-b24a-6bdc66adb64e"
      },
      "source": [
        "game = gomoku.Gomoku(SIZE)\n",
        "p1 = Paul_player_zero.ZeroPlayer('p1', +1, game, model)\n",
        "p2 = Paul_player_zero.ZeroPlayer('p2', -1, game, model)\n",
        "p1.tree.temp = 0.1\n",
        "p1.tree.epsilon = 0\n",
        "p2.tree.temp = 0.1\n",
        "p2.tree.epsilon = 0\n",
        "pa, pb = p1, p2 \n",
        "while not game.finished:\n",
        "    game.play(*pa.play(game, N_ITER))\n",
        "    pa, pb = pb, pa\n",
        "game.show()\n",
        "############## Also displays the moves in sequence ##################\n",
        "b= np.zeros((SIZE,SIZE),dtype=np.int8)\n",
        "b[np.array(game.episode)[:,0],np.array(game.episode)[:,1]] = 1+ np.arange(len(game.episode))\n",
        "b = b.transpose()\n",
        "print(b)"
      ],
      "execution_count": 26,
      "outputs": [
        {
          "output_type": "stream",
          "text": [
            "white played (2, 0).\n",
            "black played (8, 0).\n",
            "game has ended. winner: none\n",
            "   0 1 2 3 4 5 6 7 8\n",
            " 0 ● ● ○ ○ ● ○ ○ ● ● \n",
            " 1 ○ ● ○ ○ ○ ● ● ○ ● \n",
            " 2 ○ ● ○ ● ● ● ● ○ ○ \n",
            " 3 ● ○ ● ○ ○ ● ● ● ● \n",
            " 4 ○ ● ○ ● ● ○ ○ ○ ○ \n",
            " 5 ○ ● ● ● ● ○ ○ ○ ○ \n",
            " 6 ○ ● ○ ○ ● ○ ● ● ○ \n",
            " 7 ● ○ ● ● ● ○ ○ ● ○ \n",
            " 8 ○ ● ● ○ ○ ● ● ○ ● \n",
            "[[67 71 80 72 43 74 64 63 81]\n",
            " [14 41 40 38 16 39 61 24 73]\n",
            " [60 13 18  7 17 25 23 26 66]\n",
            " [47 28  5 12  2  9 55 37 57]\n",
            " [42 15 20  3 19  4 62 32 44]\n",
            " [30 27 29 21  1  8 52 50 54]\n",
            " [48 31 22 34 35  6 51 53 56]\n",
            " [49 46 79 65 33 10 76 77 58]\n",
            " [78 45 75 68 36 11 69 70 59]]\n"
          ],
          "name": "stdout"
        }
      ]
    },
    {
      "cell_type": "code",
      "metadata": {
        "id": "39a5dMREOLdD"
      },
      "source": [
        ""
      ],
      "execution_count": null,
      "outputs": []
    }
  ]
}