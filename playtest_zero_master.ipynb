{
 "cells": [
  {
   "cell_type": "code",
   "execution_count": null,
   "metadata": {},
   "outputs": [],
   "source": [
    "## only run if using google Colab\n",
    "from google.colab import drive\n",
    "drive.mount('/content/drive')\n",
    "\n",
    "import os\n",
    "os.chdir('/content/drive/MyDrive/UCLA/ECE239/Gomoku-project/')"
   ]
  },
  {
   "cell_type": "code",
   "execution_count": 1,
   "metadata": {},
   "outputs": [],
   "source": [
    "import numpy as np\n",
    "import tensorflow as tf\n",
    "import tensorflow.keras as keras\n",
    "\n",
    "import gomoku, player_basic, player_zero\n",
    "from time import time\n",
    "\n",
    "# for auto-reloading external modules\n",
    "%load_ext autoreload\n",
    "%autoreload 2"
   ]
  },
  {
   "cell_type": "code",
   "execution_count": null,
   "metadata": {},
   "outputs": [],
   "source": [
    "## check running GPU\n",
    "tf.test.gpu_device_name()"
   ]
  },
  {
   "cell_type": "code",
   "execution_count": 2,
   "metadata": {},
   "outputs": [],
   "source": [
    "## Gobal parameters ==========\n",
    "SIZE = 9\n",
    "WIN = 5\n",
    "N_ITER = 1000\n",
    "## ==========================="
   ]
  },
  {
   "cell_type": "code",
   "execution_count": 3,
   "metadata": {},
   "outputs": [
    {
     "name": "stdout",
     "output_type": "stream",
     "text": [
      "Model: \"model\"\n",
      "__________________________________________________________________________________________________\n",
      "Layer (type)                    Output Shape         Param #     Connected to                     \n",
      "==================================================================================================\n",
      "input (InputLayer)              [(None, 9, 9, 1)]    0                                            \n",
      "__________________________________________________________________________________________________\n",
      "conv1 (Conv2D)                  (None, 9, 9, 64)     640         input[0][0]                      \n",
      "__________________________________________________________________________________________________\n",
      "conv2 (Conv2D)                  (None, 9, 9, 64)     36928       conv1[0][0]                      \n",
      "__________________________________________________________________________________________________\n",
      "conv3 (Conv2D)                  (None, 9, 9, 64)     36928       conv2[0][0]                      \n",
      "__________________________________________________________________________________________________\n",
      "conv5 (Conv2D)                  (None, 9, 9, 1)      65          conv3[0][0]                      \n",
      "__________________________________________________________________________________________________\n",
      "conv4 (Conv2D)                  (None, 9, 9, 2)      130         conv3[0][0]                      \n",
      "__________________________________________________________________________________________________\n",
      "flatten_1 (Flatten)             (None, 81)           0           conv5[0][0]                      \n",
      "__________________________________________________________________________________________________\n",
      "flatten (Flatten)               (None, 162)          0           conv4[0][0]                      \n",
      "__________________________________________________________________________________________________\n",
      "dense1 (Dense)                  (None, 64)           5248        flatten_1[0][0]                  \n",
      "__________________________________________________________________________________________________\n",
      "policy (Dense)                  (None, 81)           13203       flatten[0][0]                    \n",
      "__________________________________________________________________________________________________\n",
      "value (Dense)                   (None, 1)            65          dense1[0][0]                     \n",
      "==================================================================================================\n",
      "Total params: 93,207\n",
      "Trainable params: 93,207\n",
      "Non-trainable params: 0\n",
      "__________________________________________________________________________________________________\n"
     ]
    }
   ],
   "source": [
    "model = player_zero.net(SIZE, l2=1e-5)\n",
    "#model.load_weights('day0.h5')\n",
    "model.summary()"
   ]
  },
  {
   "cell_type": "markdown",
   "metadata": {},
   "source": [
    "# Playtest"
   ]
  },
  {
   "cell_type": "markdown",
   "metadata": {},
   "source": [
    "**Human vs cp**"
   ]
  },
  {
   "cell_type": "code",
   "execution_count": null,
   "metadata": {},
   "outputs": [],
   "source": [
    "game = gomoku.Gomoku(SIZE)\n",
    "p2 = player_zero.ZeroPlayer('p2', -1, game, model)"
   ]
  },
  {
   "cell_type": "code",
   "execution_count": null,
   "metadata": {
    "scrolled": true
   },
   "outputs": [],
   "source": [
    "## play your move ==========\n",
    "game.play(4, 4)\n",
    "## =========================\n",
    "\n",
    "t = time()\n",
    "if not game.finished:\n",
    "    game.play(*p2.play(game, N_ITER))\n",
    "game.show()\n",
    "print(\"time: {0:.3f}\".format(time() - t))"
   ]
  },
  {
   "cell_type": "markdown",
   "metadata": {},
   "source": [
    "**Create a fictional game**"
   ]
  },
  {
   "cell_type": "code",
   "execution_count": null,
   "metadata": {},
   "outputs": [],
   "source": [
    "game = gomoku.Gomoku(SIZE)\n",
    "\n",
    "game.play(0, 0)\n",
    "game.play(0, 1)\n",
    "\n",
    "game.play(1, 0)\n",
    "game.play(1, 1)\n",
    "\n",
    "game.play(2, 0)\n",
    "game.play(2, 1)\n",
    "\n",
    "game.play(3, 0)\n",
    "#game.play(3, 1)\n",
    "\n",
    "game.show()\n",
    "\n",
    "p2 = player_zero.ZeroPlayer('p2', -1, game, model, player_zero.PrintRecorder())"
   ]
  },
  {
   "cell_type": "code",
   "execution_count": null,
   "metadata": {},
   "outputs": [],
   "source": [
    "p2.play(game, 2000)"
   ]
  },
  {
   "cell_type": "code",
   "execution_count": null,
   "metadata": {},
   "outputs": [],
   "source": [
    "p2.tree.prev_head.N"
   ]
  },
  {
   "cell_type": "markdown",
   "metadata": {},
   "source": [
    "**Cp vs cp**"
   ]
  },
  {
   "cell_type": "code",
   "execution_count": 4,
   "metadata": {},
   "outputs": [],
   "source": [
    "## playtest against self\n",
    "game = gomoku.Gomoku(SIZE)\n",
    "p1 = player_zero.ZeroPlayer('p1', +1, game, model)\n",
    "p2 = player_zero.ZeroPlayer('p2', -1, game, model)\n",
    "pa, pb = p1, p2"
   ]
  },
  {
   "cell_type": "code",
   "execution_count": 5,
   "metadata": {},
   "outputs": [
    {
     "name": "stdout",
     "output_type": "stream",
     "text": [
      "white played (1, 5).\n",
      "black played (7, 2).\n",
      "game has ended. winner: black\n",
      "   0 1 2 3 4 5 6 7 8\n",
      " 0 ○ ○ . ● ○ . . . ● \n",
      " 1 . . ● . . . . ○ . \n",
      " 2 . ○ . . ● ● ● ● . \n",
      " 3 . ● . . ○ . ● ○ . \n",
      " 4 . . ○ ● ○ ● . . . \n",
      " 5 . ○ ○ . ● . ● . ○ \n",
      " 6 . . . ● ○ ○ . . ● \n",
      " 7 . ● . . ● ● . . . \n",
      " 8 ○ ○ . . . . . . ○ \n",
      "time: 124.183\n"
     ]
    }
   ],
   "source": [
    "t = time()\n",
    "#if not game.finished:\n",
    "while not game.finished:\n",
    "    game.play(*pa.play(game, N_ITER))\n",
    "    pa, pb = pb, pa\n",
    "game.show()\n",
    "print(\"time: {0:.3f}\".format(time() - t))"
   ]
  },
  {
   "cell_type": "markdown",
   "metadata": {},
   "source": [
    "# Gather self-play games"
   ]
  },
  {
   "cell_type": "code",
   "execution_count": null,
   "metadata": {},
   "outputs": [],
   "source": [
    "## ==========\n",
    "BATCH_SIZE = 100\n",
    "START = 0\n",
    "END = 10\n",
    "PREFIX = 'day0'\n",
    "## ==========\n",
    "## save games frequently (in batches of 100) to prevent data loss\n",
    "## files are saved as 'PREFIX_i.tfrecords' for i = START, START+1, ..., END-1\n",
    "\n",
    "for i in range(START, END):\n",
    "    filename = PREFIX + '_' + str(i) + '.tfrecords'\n",
    "    with player_zero.GameRecorder(filename, SIZE) as recorder:\n",
    "        print(\"batch {0:2d}: \".format(i), end='')\n",
    "        for j in range(BATCH_SIZE):\n",
    "            print(j, end=',')\n",
    "            game = gomoku.Gomoku(SIZE)\n",
    "            p1 = player_zero.ZeroPlayer('p1', +1, game, model, recorder)\n",
    "            p2 = player_zero.ZeroPlayer('p2', -1, game, model, recorder)\n",
    "\n",
    "            pa, pb = p1, p2\n",
    "            while not game.finished:\n",
    "                game.play(*pa.play(game, N_ITER))\n",
    "                pa, pb = pb, pa\n",
    "        print()"
   ]
  },
  {
   "cell_type": "markdown",
   "metadata": {},
   "source": [
    "Examine games collected"
   ]
  },
  {
   "cell_type": "code",
   "execution_count": null,
   "metadata": {},
   "outputs": [],
   "source": [
    "recorder = player_zero.GameRecorder('day0.tfrecords', SIZE)\n",
    "data = recorder.fetch()"
   ]
  },
  {
   "cell_type": "code",
   "execution_count": null,
   "metadata": {},
   "outputs": [],
   "source": [
    "len(list(data))"
   ]
  },
  {
   "cell_type": "code",
   "execution_count": null,
   "metadata": {},
   "outputs": [],
   "source": [
    "board = np.array([x[0] for x in data])\n",
    "policy = np.array([x[1]['policy'] for x in data])\n",
    "value = np.array([x[1]['value'] for x in data])"
   ]
  },
  {
   "cell_type": "code",
   "execution_count": null,
   "metadata": {},
   "outputs": [],
   "source": [
    "i = 0\n",
    "print(board[i][..., 0])\n",
    "print(policy[i])\n",
    "print(value[i])"
   ]
  },
  {
   "cell_type": "markdown",
   "metadata": {},
   "source": [
    "# Merge data and augment"
   ]
  },
  {
   "cell_type": "code",
   "execution_count": null,
   "metadata": {},
   "outputs": [],
   "source": [
    "## merge into one dataset\n",
    "datasets = []\n",
    "\n",
    "for i in range(10):\n",
    "    filename = 'day0_' + str(i) + '.tfrecords'\n",
    "    recorder = player_zero.GameRecorder(filename, SIZE)\n",
    "    datasets.append(recorder.fetch())"
   ]
  },
  {
   "cell_type": "code",
   "execution_count": null,
   "metadata": {},
   "outputs": [],
   "source": [
    "with player_zero.GameRecorder('day0.tfrecords', SIZE) as recorder:\n",
    "    for ds in datasets:\n",
    "        for x in ds:\n",
    "            board = x[0].numpy()\n",
    "            policy = x[1]['policy'].numpy()\n",
    "            value = x[1]['value']\n",
    "            recorder.write(board, policy, value)\n",
    "            ## add rotated and flipped\n",
    "            policy_square = policy.reshape(SIZE, SIZE)\n",
    "            recorder.write(np.rot90(board, k=1), np.rot90(policy_square, k=1).flatten(), value)\n",
    "            recorder.write(np.rot90(board, k=2), np.rot90(policy_square, k=2).flatten(), value)\n",
    "            recorder.write(np.rot90(board, k=3), np.rot90(policy_square, k=3).flatten(), value)\n",
    "            recorder.write(np.flipud(board), np.flipud(policy_square).flatten(), value)\n",
    "            recorder.write(np.rot90(np.flipud(board), k=1), np.rot90(np.flipud(policy_square), k=1).flatten(), value)\n",
    "            recorder.write(np.rot90(np.flipud(board), k=2), np.rot90(np.flipud(policy_square), k=2).flatten(), value)\n",
    "            recorder.write(np.rot90(np.flipud(board), k=3), np.rot90(np.flipud(policy_square), k=3).flatten(), value)"
   ]
  },
  {
   "cell_type": "markdown",
   "metadata": {},
   "source": [
    "# Train NN"
   ]
  },
  {
   "cell_type": "code",
   "execution_count": null,
   "metadata": {},
   "outputs": [],
   "source": [
    "def cross_entropy(y_true, y_pred):\n",
    "    return - tf.reduce_mean(y_true * tf.math.log(y_pred + 1e-10), axis=-1)\n",
    "\n",
    "opt = keras.optimizers.Adam(learning_rate=1e-3)\n",
    "#policy_loss = keras.losses.BinaryCrossentropy()\n",
    "policy_loss = cross_entropy\n",
    "value_loss = keras.losses.MeanSquaredError()\n",
    "\n",
    "model.compile(optimizer=opt, \n",
    "              loss={'policy': policy_loss,\n",
    "                    'value': value_loss})"
   ]
  },
  {
   "cell_type": "code",
   "execution_count": null,
   "metadata": {},
   "outputs": [],
   "source": [
    "recorder = player_zero.GameRecorder('day0.tfrecords', SIZE)\n",
    "data = recorder.fetch()"
   ]
  },
  {
   "cell_type": "code",
   "execution_count": null,
   "metadata": {},
   "outputs": [],
   "source": [
    "train = data.shuffle(10000).batch(10)"
   ]
  },
  {
   "cell_type": "code",
   "execution_count": null,
   "metadata": {
    "scrolled": true
   },
   "outputs": [],
   "source": [
    "history = model.fit(train, epochs=30)"
   ]
  },
  {
   "cell_type": "code",
   "execution_count": null,
   "metadata": {},
   "outputs": [],
   "source": [
    "model.save_weights('day1.h5')"
   ]
  }
 ],
 "metadata": {
  "kernelspec": {
   "display_name": "Python 3",
   "language": "python",
   "name": "python3"
  },
  "language_info": {
   "codemirror_mode": {
    "name": "ipython",
    "version": 3
   },
   "file_extension": ".py",
   "mimetype": "text/x-python",
   "name": "python",
   "nbconvert_exporter": "python",
   "pygments_lexer": "ipython3",
   "version": "3.8.10"
  }
 },
 "nbformat": 4,
 "nbformat_minor": 4
}
