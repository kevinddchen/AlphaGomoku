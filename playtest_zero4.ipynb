{
 "cells": [
  {
   "cell_type": "code",
   "execution_count": null,
   "metadata": {},
   "outputs": [],
   "source": [
    "## only run if using google Colab\n",
    "from google.colab import drive\n",
    "drive.mount('/content/drive')\n",
    "\n",
    "import os\n",
    "os.chdir('/content/drive/MyDrive/UCLA/ECE239/Gomoku-project/')"
   ]
  },
  {
   "cell_type": "code",
   "execution_count": null,
   "metadata": {},
   "outputs": [],
   "source": [
    "import numpy as np\n",
    "import tensorflow as tf\n",
    "import tensorflow.keras as keras\n",
    "\n",
    "import gomoku, player_basic, player_zero4 as player_zero\n",
    "from time import time\n",
    "\n",
    "# for auto-reloading external modules\n",
    "%load_ext autoreload\n",
    "%autoreload 2"
   ]
  },
  {
   "cell_type": "code",
   "execution_count": null,
   "metadata": {},
   "outputs": [],
   "source": [
    "## Gobal parameters ==========\n",
    "SIZE = 9\n",
    "WIN = 5\n",
    "N_ITER = 500\n",
    "## ==========================="
   ]
  },
  {
   "cell_type": "code",
   "execution_count": null,
   "metadata": {},
   "outputs": [],
   "source": [
    "model = player_zero.net(SIZE)\n",
    "model.load_weights('day0.h5')"
   ]
  },
  {
   "cell_type": "code",
   "execution_count": null,
   "metadata": {},
   "outputs": [],
   "source": [
    "model.summary()"
   ]
  },
  {
   "cell_type": "code",
   "execution_count": null,
   "metadata": {},
   "outputs": [],
   "source": [
    "#model.save_weights('day0.h5')"
   ]
  },
  {
   "cell_type": "markdown",
   "metadata": {},
   "source": [
    "# Playtest"
   ]
  },
  {
   "cell_type": "markdown",
   "metadata": {},
   "source": [
    "**Human vs cp**"
   ]
  },
  {
   "cell_type": "code",
   "execution_count": null,
   "metadata": {},
   "outputs": [],
   "source": [
    "game = gomoku.Gomoku(SIZE, WIN)\n",
    "p2 = player_zero.ZeroPlayer('p2', -1, game, model)\n",
    "## remove all exploration\n",
    "p2.tree.epsilon=0\n",
    "p2.tree.temp=1e-3"
   ]
  },
  {
   "cell_type": "code",
   "execution_count": null,
   "metadata": {
    "scrolled": true
   },
   "outputs": [],
   "source": [
    "## play your move ==========\n",
    "game.play(3, 4)\n",
    "## =========================\n",
    "\n",
    "t = time()\n",
    "if not game.finished:\n",
    "    game.play(*p2.play(game, N_ITER))\n",
    "game.show()\n",
    "print(\"time: {0:.3f}\".format(time() - t))"
   ]
  },
  {
   "cell_type": "code",
   "execution_count": null,
   "metadata": {},
   "outputs": [],
   "source": [
    "np.argsort(p2.tree.prev_head.N)"
   ]
  },
  {
   "cell_type": "markdown",
   "metadata": {},
   "source": [
    "**Create a fictional game**"
   ]
  },
  {
   "cell_type": "code",
   "execution_count": null,
   "metadata": {},
   "outputs": [],
   "source": [
    "game = gomoku.Gomoku(SIZE, WIN)\n",
    "\n",
    "game.play(2, 4)\n",
    "game.play(3, 4)\n",
    "\n",
    "game.play(2, 3)\n",
    "game.play(3, 3)\n",
    "\n",
    "game.play(2, 2)\n",
    "game.play(3, 2)\n",
    "\n",
    "game.play(2, 1)\n",
    "\n",
    "p2 = player_zero.ZeroPlayer('p2', +1, game, model, player_zero.PrintRecorder())\n",
    "\n",
    "game.play(3, 1)\n",
    "\n",
    "game.show()"
   ]
  },
  {
   "cell_type": "code",
   "execution_count": null,
   "metadata": {},
   "outputs": [],
   "source": [
    "p2.play(game, N_ITER)"
   ]
  },
  {
   "cell_type": "code",
   "execution_count": null,
   "metadata": {},
   "outputs": [],
   "source": [
    "p2.tree.prev_head.V"
   ]
  },
  {
   "cell_type": "markdown",
   "metadata": {},
   "source": [
    "**Cp vs cp**"
   ]
  },
  {
   "cell_type": "code",
   "execution_count": null,
   "metadata": {},
   "outputs": [],
   "source": [
    "## playtest against self\n",
    "game = gomoku.Gomoku(SIZE, WIN)\n",
    "p1 = player_zero.ZeroPlayer('p1', +1, game, model)\n",
    "p2 = player_zero.ZeroPlayer('p2', -1, game, model)\n",
    "pa, pb = p1, p2"
   ]
  },
  {
   "cell_type": "code",
   "execution_count": null,
   "metadata": {},
   "outputs": [],
   "source": [
    "t = time()\n",
    "#if not game.finished:\n",
    "while not game.finished:\n",
    "    game.play(*pa.play(game, N_ITER))\n",
    "    pa, pb = pb, pa\n",
    "game.show()\n",
    "print(\"time: {0:.3f}\".format(time() - t))"
   ]
  },
  {
   "cell_type": "markdown",
   "metadata": {},
   "source": [
    "# Gather self-play games"
   ]
  },
  {
   "cell_type": "code",
   "execution_count": null,
   "metadata": {},
   "outputs": [],
   "source": [
    "## ==========\n",
    "BATCH_SIZE = 100\n",
    "START = 0\n",
    "END = 1\n",
    "PREFIX = 'day0'\n",
    "## ==========\n",
    "## save games frequently to prevent data loss\n",
    "## files are saved as 'PREFIX_i.tfrecords' for i = START, START+1, ..., END-1\n",
    "\n",
    "for i in range(START, END):\n",
    "    filename = PREFIX + '_' + str(i) + '.tfrecords'\n",
    "    with player_zero.GameRecorder(filename, SIZE) as recorder:\n",
    "        print(\"batch {0:2d}: \".format(i), end='')\n",
    "        for j in range(BATCH_SIZE):\n",
    "            print(j, end=',')\n",
    "            game = gomoku.Gomoku(SIZE, WIN)\n",
    "            p1 = player_zero.ZeroPlayer('p1', +1, game, model, recorder)\n",
    "            p2 = player_zero.ZeroPlayer('p2', -1, game, model, recorder)\n",
    "\n",
    "            pa, pb = p1, p2\n",
    "            while not game.finished:\n",
    "                game.play(*pa.play(game, N_ITER))\n",
    "                pa, pb = pb, pa\n",
    "        print()"
   ]
  },
  {
   "cell_type": "markdown",
   "metadata": {},
   "source": [
    "Examine games collected"
   ]
  },
  {
   "cell_type": "code",
   "execution_count": null,
   "metadata": {},
   "outputs": [],
   "source": [
    "recorder = player_zero.GameRecorder('day0.tfrecords', SIZE)\n",
    "data = recorder.fetch()"
   ]
  },
  {
   "cell_type": "code",
   "execution_count": null,
   "metadata": {},
   "outputs": [],
   "source": [
    "len(list(data))"
   ]
  },
  {
   "cell_type": "code",
   "execution_count": null,
   "metadata": {},
   "outputs": [],
   "source": [
    "board = np.array([x[0] for x in data])\n",
    "policy = np.array([x[1]['policy'] for x in data])\n",
    "value = np.array([x[1]['value'] for x in data])"
   ]
  },
  {
   "cell_type": "code",
   "execution_count": null,
   "metadata": {},
   "outputs": [],
   "source": [
    "i = 0\n",
    "print(board[i][..., 0])\n",
    "print(board[i][..., 1])\n",
    "print(board[i][..., 2])\n",
    "print(board[i][..., 3])\n",
    "print(policy[i])\n",
    "print(value[i])"
   ]
  },
  {
   "cell_type": "markdown",
   "metadata": {},
   "source": [
    "# Merge data and augment"
   ]
  },
  {
   "cell_type": "code",
   "execution_count": null,
   "metadata": {},
   "outputs": [],
   "source": [
    "## merge into one dataset==============\n",
    "innames = [\n",
    "    'day0_0.tfrecords',\n",
    "    'day0_1.tfrecords',\n",
    "    'day0_2.tfrecords',\n",
    "    'day0_3.tfrecords',\n",
    "    'day0_4.tfrecords',\n",
    "    'day0_5.tfrecords',\n",
    "    'day0_6.tfrecords',\n",
    "    'day0_7.tfrecords',\n",
    "    'day0_8.tfrecords',\n",
    "    'day0_9.tfrecords',\n",
    "    'day0_10.tfrecords',\n",
    "    'day0_11.tfrecords',\n",
    "    'day0_12.tfrecords',\n",
    "    'day0_13.tfrecords',\n",
    "    'day0_14.tfrecords',\n",
    "]\n",
    "outname = 'day0.tfrecords'\n",
    "## ====================================\n",
    "\n",
    "datasets = []\n",
    "\n",
    "for inname in innames:\n",
    "    recorder = player_zero.GameRecorder(inname, SIZE)\n",
    "    datasets.append(recorder.fetch())\n",
    "\n",
    "with player_zero.GameRecorder(outname, SIZE) as recorder:\n",
    "    for ds in datasets:\n",
    "        for x in ds:\n",
    "            board = x[0].numpy()\n",
    "            policy = x[1]['policy'].numpy()\n",
    "            value = x[1]['value']\n",
    "            recorder.write(board, policy, value)"
   ]
  },
  {
   "cell_type": "code",
   "execution_count": null,
   "metadata": {},
   "outputs": [],
   "source": [
    "## augment dataset=====================\n",
    "innames = [\n",
    "    'day0.tfrecords'\n",
    "]\n",
    "outname = 'X.tfrecords'\n",
    "## ====================================\n",
    "\n",
    "datasets = []\n",
    "\n",
    "for inname in innames:\n",
    "    recorder = player_zero.GameRecorder(inname, SIZE)\n",
    "    datasets.append(recorder.fetch())\n",
    "\n",
    "with player_zero.GameRecorder(outname, SIZE) as recorder:\n",
    "    for ds in datasets:\n",
    "        for x in ds:\n",
    "            board = x[0].numpy()\n",
    "            policy = x[1]['policy'].numpy().reshape(SIZE, SIZE) # make into square\n",
    "            value = x[1]['value']\n",
    "            ## rotate\n",
    "            recorder.write(board, policy.flatten(), value)\n",
    "            recorder.write(np.rot90(board, k=1), np.rot90(policy, k=1).flatten(), value)\n",
    "            recorder.write(np.rot90(board, k=2), np.rot90(policy, k=2).flatten(), value)\n",
    "            recorder.write(np.rot90(board, k=3), np.rot90(policy, k=3).flatten(), value)\n",
    "            ## flip\n",
    "            board = np.flipud(board)\n",
    "            policy = np.flipud(policy)\n",
    "            recorder.write(board, policy.flatten(), value)\n",
    "            recorder.write(np.rot90(board, k=1), np.rot90(policy, k=1).flatten(), value)\n",
    "            recorder.write(np.rot90(board, k=2), np.rot90(policy, k=2).flatten(), value)\n",
    "            recorder.write(np.rot90(board, k=3), np.rot90(policy, k=3).flatten(), value)"
   ]
  },
  {
   "cell_type": "markdown",
   "metadata": {},
   "source": [
    "# Train NN"
   ]
  },
  {
   "cell_type": "code",
   "execution_count": null,
   "metadata": {},
   "outputs": [],
   "source": [
    "## check running GPU\n",
    "tf.test.gpu_device_name()"
   ]
  },
  {
   "cell_type": "code",
   "execution_count": null,
   "metadata": {},
   "outputs": [],
   "source": [
    "model = player_zero.net(SIZE)\n",
    "model.load_weights('day0.h5')"
   ]
  },
  {
   "cell_type": "code",
   "execution_count": null,
   "metadata": {},
   "outputs": [],
   "source": [
    "def cross_entropy(y_true, y_pred):\n",
    "    return - tf.reduce_mean(y_true * tf.math.log(y_pred + 1e-10), axis=-1)\n",
    "\n",
    "opt = keras.optimizers.Adam(learning_rate=1e-3)\n",
    "policy_loss = cross_entropy\n",
    "value_loss = keras.losses.MeanSquaredError()\n",
    "\n",
    "model.compile(optimizer=opt, \n",
    "              loss={'policy': policy_loss,\n",
    "                    'value': value_loss})"
   ]
  },
  {
   "cell_type": "code",
   "execution_count": null,
   "metadata": {},
   "outputs": [],
   "source": [
    "recorder = player_zero.GameRecorder('X.tfrecords', SIZE)\n",
    "data = recorder.fetch()"
   ]
  },
  {
   "cell_type": "code",
   "execution_count": null,
   "metadata": {},
   "outputs": [],
   "source": [
    "len(list(data))"
   ]
  },
  {
   "cell_type": "code",
   "execution_count": null,
   "metadata": {},
   "outputs": [],
   "source": [
    "train = data.shuffle(10000).batch(20)"
   ]
  },
  {
   "cell_type": "code",
   "execution_count": null,
   "metadata": {
    "scrolled": true
   },
   "outputs": [],
   "source": [
    "history = model.fit(train, epochs=20)"
   ]
  },
  {
   "cell_type": "code",
   "execution_count": null,
   "metadata": {},
   "outputs": [],
   "source": [
    "model.save_weights('day1.h5')"
   ]
  },
  {
   "cell_type": "markdown",
   "metadata": {},
   "source": [
    "# Evaluate"
   ]
  },
  {
   "cell_type": "code",
   "execution_count": null,
   "metadata": {},
   "outputs": [],
   "source": [
    "model1 = player_zero.net(SIZE)\n",
    "model1.load_weights('day5.h5')\n",
    "model2 = player_zero.net(SIZE)\n",
    "model2.load_weights('day4.h5')"
   ]
  },
  {
   "cell_type": "code",
   "execution_count": null,
   "metadata": {},
   "outputs": [],
   "source": [
    "wins = 0\n",
    "losses = 0\n",
    "for i in range(10):\n",
    "    game = gomoku.Gomoku(SIZE, WIN)\n",
    "    p1 = player_zero.ZeroPlayer('p1', +1, game, model2)\n",
    "    p1.tree.epsilon=0\n",
    "    p1.tree.temp=.5\n",
    "    p2 = player_zero.ZeroPlayer('p2', -1, game, model1)\n",
    "    p2.tree.epsilon=0\n",
    "    p2.tree.temp=.5\n",
    "    pa, pb = p1, p2\n",
    "\n",
    "    while not game.finished:\n",
    "        game.play(*pa.play(game, N_ITER))\n",
    "        pa, pb = pb, pa\n",
    "    if game.winner == +1:\n",
    "        wins += 1\n",
    "    elif game.winner == -1:\n",
    "        losses += 1\n",
    "    \n",
    "    game.show()"
   ]
  }
 ],
 "metadata": {
  "kernelspec": {
   "display_name": "Python 3",
   "language": "python",
   "name": "python3"
  },
  "language_info": {
   "codemirror_mode": {
    "name": "ipython",
    "version": 3
   },
   "file_extension": ".py",
   "mimetype": "text/x-python",
   "name": "python",
   "nbconvert_exporter": "python",
   "pygments_lexer": "ipython3",
   "version": "3.8.10"
  }
 },
 "nbformat": 4,
 "nbformat_minor": 4
}
