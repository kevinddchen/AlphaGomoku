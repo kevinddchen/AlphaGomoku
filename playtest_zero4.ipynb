{
 "cells": [
  {
   "cell_type": "code",
   "execution_count": null,
   "metadata": {},
   "outputs": [],
   "source": [
    "## only run if using google Colab\n",
    "from google.colab import drive\n",
    "drive.mount('/content/drive')\n",
    "\n",
    "import os\n",
    "os.chdir('/content/drive/MyDrive/UCLA/ECE239/Gomoku-project/')"
   ]
  },
  {
   "cell_type": "code",
   "execution_count": 1,
   "metadata": {},
   "outputs": [],
   "source": [
    "import numpy as np\n",
    "import tensorflow as tf\n",
    "import tensorflow.keras as keras\n",
    "\n",
    "import gomoku4, player_basic, player_zero\n",
    "from time import time\n",
    "\n",
    "# for auto-reloading external modules\n",
    "%load_ext autoreload\n",
    "%autoreload 2"
   ]
  },
  {
   "cell_type": "code",
   "execution_count": null,
   "metadata": {},
   "outputs": [],
   "source": [
    "## check running GPU\n",
    "tf.test.gpu_device_name()"
   ]
  },
  {
   "cell_type": "code",
   "execution_count": 2,
   "metadata": {},
   "outputs": [],
   "source": [
    "model = player_zero.net(6)\n",
    "\n",
    "opt = keras.optimizers.Adam(learning_rate=1e-3)\n",
    "policy_loss = keras.losses.BinaryCrossentropy(name='cross_entropy')\n",
    "value_loss = keras.losses.MeanSquaredError(name='mse')\n",
    "\n",
    "model.compile(optimizer=opt, \n",
    "              loss={'policy': policy_loss,\n",
    "                    'value': value_loss})"
   ]
  },
  {
   "cell_type": "code",
   "execution_count": 3,
   "metadata": {},
   "outputs": [
    {
     "name": "stdout",
     "output_type": "stream",
     "text": [
      "Model: \"model\"\n",
      "__________________________________________________________________________________________________\n",
      "Layer (type)                    Output Shape         Param #     Connected to                     \n",
      "==================================================================================================\n",
      "input (InputLayer)              [(None, 6, 6, 1)]    0                                            \n",
      "__________________________________________________________________________________________________\n",
      "conv1 (Conv2D)                  (None, 6, 6, 64)     640         input[0][0]                      \n",
      "__________________________________________________________________________________________________\n",
      "conv2 (Conv2D)                  (None, 6, 6, 64)     36928       conv1[0][0]                      \n",
      "__________________________________________________________________________________________________\n",
      "conv3 (Conv2D)                  (None, 6, 6, 64)     36928       conv2[0][0]                      \n",
      "__________________________________________________________________________________________________\n",
      "conv5 (Conv2D)                  (None, 6, 6, 1)      65          conv3[0][0]                      \n",
      "__________________________________________________________________________________________________\n",
      "conv4 (Conv2D)                  (None, 6, 6, 2)      130         conv3[0][0]                      \n",
      "__________________________________________________________________________________________________\n",
      "flatten_1 (Flatten)             (None, 36)           0           conv5[0][0]                      \n",
      "__________________________________________________________________________________________________\n",
      "flatten (Flatten)               (None, 72)           0           conv4[0][0]                      \n",
      "__________________________________________________________________________________________________\n",
      "dense1 (Dense)                  (None, 64)           2368        flatten_1[0][0]                  \n",
      "__________________________________________________________________________________________________\n",
      "policy (Dense)                  (None, 36)           2628        flatten[0][0]                    \n",
      "__________________________________________________________________________________________________\n",
      "value (Dense)                   (None, 1)            65          dense1[0][0]                     \n",
      "==================================================================================================\n",
      "Total params: 79,752\n",
      "Trainable params: 79,752\n",
      "Non-trainable params: 0\n",
      "__________________________________________________________________________________________________\n"
     ]
    }
   ],
   "source": [
    "model.summary()"
   ]
  },
  {
   "cell_type": "code",
   "execution_count": 27,
   "metadata": {},
   "outputs": [],
   "source": [
    "#model.save_weights('day0.h5')"
   ]
  },
  {
   "cell_type": "code",
   "execution_count": 4,
   "metadata": {},
   "outputs": [],
   "source": [
    "model.load_weights('day1.h5')"
   ]
  },
  {
   "cell_type": "markdown",
   "metadata": {},
   "source": [
    "# Playtest"
   ]
  },
  {
   "cell_type": "code",
   "execution_count": 18,
   "metadata": {},
   "outputs": [],
   "source": [
    "## playtest against human\n",
    "game = gomoku4.Gomoku4(6)\n",
    "p2 = player_zero.ZeroPlayer('p2', -1, game, model)"
   ]
  },
  {
   "cell_type": "code",
   "execution_count": 19,
   "metadata": {
    "scrolled": true
   },
   "outputs": [
    {
     "name": "stdout",
     "output_type": "stream",
     "text": [
      "white played (4, 1).\n",
      "black played (1, 2).\n",
      "game has ended. winner: black\n",
      "   0 1 2 3 4 5\n",
      " 0 . ○ . . . . \n",
      " 1 . . . . ○ ○ \n",
      " 2 . ● ● ● ● . \n",
      " 3 . . . . . . \n",
      " 4 . . . . . . \n",
      " 5 . . . . . . \n",
      "time: 0.004\n"
     ]
    }
   ],
   "source": [
    "game.play(1, 2)\n",
    "t = time()\n",
    "if not game.finished:\n",
    "    game.play(*p2.play(game))\n",
    "game.show()\n",
    "print(\"time: {0:.3f}\".format(time() - t))"
   ]
  },
  {
   "cell_type": "code",
   "execution_count": 19,
   "metadata": {},
   "outputs": [
    {
     "name": "stdout",
     "output_type": "stream",
     "text": [
      "black played (4, 2).\n",
      "white played (4, 3).\n",
      "black's turn.\n",
      "   0 1 2 3 4 5\n",
      " 0 . . . . . . \n",
      " 1 . . . . . . \n",
      " 2 . . ● ● ● . \n",
      " 3 . . ○ ○ ○ . \n",
      " 4 . . . . . . \n",
      " 5 . . . . . . \n"
     ]
    }
   ],
   "source": [
    "game.play(2, 2)\n",
    "p2.tree.updateHead(2*6+2)\n",
    "game.play(2, 3)\n",
    "p2.tree.updateHead(2*6+3)\n",
    "\n",
    "game.play(3, 2)\n",
    "p2.tree.updateHead(3*6+2)\n",
    "game.play(3, 3)\n",
    "p2.tree.updateHead(3*6+3)\n",
    "\n",
    "# game.play(4, 2)\n",
    "# p2.tree.updateHead(4*6+2)\n",
    "# game.play(4, 3)\n",
    "# p2.tree.updateHead(4*6+3)\n",
    "\n",
    "game.show()"
   ]
  },
  {
   "cell_type": "code",
   "execution_count": 20,
   "metadata": {},
   "outputs": [
    {
     "data": {
      "text/plain": [
       "(5, 2)"
      ]
     },
     "execution_count": 20,
     "metadata": {},
     "output_type": "execute_result"
    }
   ],
   "source": [
    "p2.play(game)"
   ]
  },
  {
   "cell_type": "code",
   "execution_count": 21,
   "metadata": {},
   "outputs": [
    {
     "data": {
      "text/plain": [
       "array([0.00624203, 0.00266773, 0.02310409, 0.00296424, 0.00310789,\n",
       "       0.00491623, 0.00463357, 0.01427532, 0.33325308, 0.01495194,\n",
       "       0.01600388, 0.01115462, 0.00199637, 0.00263356, 0.00800716,\n",
       "       0.00556969, 0.01367661, 0.00409513, 0.0110047 , 0.00835468,\n",
       "       0.00426882, 0.00153794, 0.0024741 , 0.01886619, 0.00280085,\n",
       "       0.00454124, 0.00381445, 0.00438922, 0.00835988, 0.01443459,\n",
       "       0.01301124, 0.00666254, 0.4126034 , 0.0063967 , 0.00113718,\n",
       "       0.0020892 ])"
      ]
     },
     "execution_count": 21,
     "metadata": {},
     "output_type": "execute_result"
    }
   ],
   "source": [
    "p2.tree.prev_head.P"
   ]
  },
  {
   "cell_type": "code",
   "execution_count": 57,
   "metadata": {},
   "outputs": [
    {
     "data": {
      "text/plain": [
       "array([31., 44., 24., 30., 37., 32., 28., 37., 33., 29., 25., 26., 27.,\n",
       "       33.,  0.,  0., 28., 42., 33., 25.,  0.,  0., 29., 26., 35., 29.,\n",
       "       27., 45., 28., 49., 30., 26., 33., 24., 29., 26.], dtype=float32)"
      ]
     },
     "execution_count": 57,
     "metadata": {},
     "output_type": "execute_result"
    }
   ],
   "source": [
    "p2.tree.prev_head.N"
   ]
  },
  {
   "cell_type": "code",
   "execution_count": 64,
   "metadata": {},
   "outputs": [],
   "source": [
    "## playtest against self\n",
    "game = gomoku4.Gomoku4(6)\n",
    "p1 = player_zero.ZeroPlayer('p1', +1, game, model)\n",
    "p2 = player_zero.ZeroPlayer('p2', -1, game, model)\n",
    "pa, pb = p1, p2"
   ]
  },
  {
   "cell_type": "code",
   "execution_count": 65,
   "metadata": {},
   "outputs": [
    {
     "name": "stdout",
     "output_type": "stream",
     "text": [
      "black played (0, 5).\n",
      "white played (4, 2).\n",
      "game has ended. winner: white\n",
      "   0 1 2 3 4 5\n",
      " 0 . . . . . . \n",
      " 1 ● . ● . . ○ \n",
      " 2 . . . . ○ . \n",
      " 3 ● . ● . ○ . \n",
      " 4 . . . . ○ . \n",
      " 5 ● . . . ○ . \n",
      "time: 37.953\n"
     ]
    }
   ],
   "source": [
    "#if not game.finished:\n",
    "t = time()\n",
    "while not game.finished:\n",
    "    game.play(*pa.play(game, n_iter=1000))\n",
    "    pa, pb = pb, pa\n",
    "game.show()\n",
    "print(\"time: {0:.3f}\".format(time() - t))"
   ]
  },
  {
   "cell_type": "markdown",
   "metadata": {},
   "source": [
    "# Self-play games"
   ]
  },
  {
   "cell_type": "code",
   "execution_count": 38,
   "metadata": {},
   "outputs": [
    {
     "name": "stdout",
     "output_type": "stream",
     "text": [
      "0: 0,\n"
     ]
    }
   ],
   "source": [
    "## play 1000 games\n",
    "\n",
    "day = 'day0'\n",
    "\n",
    "for i in range(10):\n",
    "    try:\n",
    "        suffix = '_' + str(i)\n",
    "        recorder = player_zero.GameRecorder(day+suffix+'.tfrecords', size=6)\n",
    "        recorder.open()\n",
    "        print(i, end=': ')\n",
    "        for j in range(100):\n",
    "            print(j, end=',')\n",
    "            game = gomoku4.Gomoku4(6)\n",
    "            p1 = player_zero.ZeroPlayer('p1', +1, game, model, recorder)\n",
    "            p2 = player_zero.ZeroPlayer('p2', -1, game, model, recorder)\n",
    "\n",
    "            pa, pb = p1, p2\n",
    "            while not game.finished:\n",
    "                game.play(*pa.play(game))\n",
    "                pa, pb = pb, pa\n",
    "        print()\n",
    "        recorder.close()\n",
    "    except:\n",
    "        recorder.close()"
   ]
  },
  {
   "cell_type": "code",
   "execution_count": 37,
   "metadata": {},
   "outputs": [],
   "source": [
    "recorder.close()"
   ]
  },
  {
   "cell_type": "markdown",
   "metadata": {},
   "source": [
    "# Augment dataset"
   ]
  },
  {
   "cell_type": "code",
   "execution_count": 103,
   "metadata": {},
   "outputs": [],
   "source": [
    "## merge into one dataset\n",
    "datasets = []\n",
    "day = 'day0'\n",
    "\n",
    "for i in range(12):\n",
    "    suffix = '_' + str(i)\n",
    "    recorder = player_zero.GameRecorder(day+suffix+'.tfrecords', size=6)\n",
    "    datasets.append(recorder.fetch())"
   ]
  },
  {
   "cell_type": "code",
   "execution_count": 128,
   "metadata": {},
   "outputs": [],
   "source": [
    "recorder = player_zero.GameRecorder(day+'.tfrecords', size=6)\n",
    "recorder.open(overwrite=True)\n",
    "for ds in datasets:\n",
    "    for x in ds:\n",
    "        board = x[0].numpy()\n",
    "        policy = x[1]['policy'].numpy()\n",
    "        value = x[1]['value']\n",
    "        recorder.write(board, policy, value)\n",
    "        ## add rotated and flipped\n",
    "        policy_square = policy.reshape(6, 6)\n",
    "        recorder.write(np.rot90(board, k=1), np.rot90(policy_square, k=1).flatten(), value)\n",
    "        recorder.write(np.rot90(board, k=2), np.rot90(policy_square, k=2).flatten(), value)\n",
    "        recorder.write(np.rot90(board, k=3), np.rot90(policy_square, k=3).flatten(), value)\n",
    "        recorder.write(np.flipud(board), np.flipud(policy_square).flatten(), value)\n",
    "        recorder.write(np.rot90(np.flipud(board), k=1), np.rot90(np.flipud(policy_square), k=1).flatten(), value)\n",
    "        recorder.write(np.rot90(np.flipud(board), k=2), np.rot90(np.flipud(policy_square), k=2).flatten(), value)\n",
    "        recorder.write(np.rot90(np.flipud(board), k=3), np.rot90(np.flipud(policy_square), k=3).flatten(), value)\n",
    "        \n",
    "recorder.close()"
   ]
  },
  {
   "cell_type": "code",
   "execution_count": 129,
   "metadata": {},
   "outputs": [],
   "source": [
    "recorder = player_zero.GameRecorder('day0.tfrecords', size=6)\n",
    "data = recorder.fetch()"
   ]
  },
  {
   "cell_type": "code",
   "execution_count": 130,
   "metadata": {},
   "outputs": [
    {
     "data": {
      "text/plain": [
       "136760"
      ]
     },
     "execution_count": 130,
     "metadata": {},
     "output_type": "execute_result"
    }
   ],
   "source": [
    "len(list(data))"
   ]
  },
  {
   "cell_type": "code",
   "execution_count": 123,
   "metadata": {},
   "outputs": [],
   "source": [
    "board = np.array([x[0] for x in data])\n",
    "policy = np.array([x[1]['policy'] for x in data])\n",
    "value = np.array([x[1]['value'] for x in data])"
   ]
  },
  {
   "cell_type": "code",
   "execution_count": 125,
   "metadata": {},
   "outputs": [],
   "source": [
    "policy_square = policy[0].reshape(6, 6)"
   ]
  },
  {
   "cell_type": "code",
   "execution_count": 127,
   "metadata": {},
   "outputs": [
    {
     "data": {
      "text/plain": [
       "array([0.03 , 0.022, 0.03 , 0.024, 0.03 , 0.03 , 0.032, 0.024, 0.028,\n",
       "       0.026, 0.028, 0.026, 0.024, 0.046, 0.022, 0.028, 0.022, 0.026,\n",
       "       0.034, 0.026, 0.032, 0.022, 0.026, 0.024, 0.024, 0.026, 0.042,\n",
       "       0.026, 0.022, 0.024, 0.03 , 0.03 , 0.022, 0.026, 0.03 , 0.036],\n",
       "      dtype=float32)"
      ]
     },
     "execution_count": 127,
     "metadata": {},
     "output_type": "execute_result"
    }
   ],
   "source": [
    "policy_square.flatten()"
   ]
  },
  {
   "cell_type": "code",
   "execution_count": 102,
   "metadata": {},
   "outputs": [
    {
     "data": {
      "text/plain": [
       "array([[ 0,  0, -1,  0,  0, -1],\n",
       "       [ 0, -1,  0,  0,  0,  0],\n",
       "       [ 0,  0,  0,  0,  0,  0],\n",
       "       [-1,  0,  0,  0,  0,  0],\n",
       "       [ 0,  0,  0,  0,  0,  0],\n",
       "       [ 0,  1,  1,  0,  1,  0]], dtype=int8)"
      ]
     },
     "execution_count": 102,
     "metadata": {},
     "output_type": "execute_result"
    }
   ],
   "source": [
    "np.rot90(x, k=0)[..., 0]"
   ]
  },
  {
   "cell_type": "markdown",
   "metadata": {},
   "source": [
    "# Train NN"
   ]
  },
  {
   "cell_type": "code",
   "execution_count": 104,
   "metadata": {},
   "outputs": [],
   "source": [
    "recorder = player_zero.GameRecorder('day0.tfrecords')\n",
    "data = recorder.fetch()"
   ]
  },
  {
   "cell_type": "code",
   "execution_count": 105,
   "metadata": {},
   "outputs": [],
   "source": [
    "train = data.shuffle(1000).batch(10)"
   ]
  },
  {
   "cell_type": "code",
   "execution_count": null,
   "metadata": {
    "scrolled": true
   },
   "outputs": [],
   "source": [
    "history = model.fit(train, epochs=30)"
   ]
  },
  {
   "cell_type": "code",
   "execution_count": 79,
   "metadata": {},
   "outputs": [],
   "source": [
    "model.save_weights('day1.h5')"
   ]
  },
  {
   "cell_type": "code",
   "execution_count": null,
   "metadata": {},
   "outputs": [],
   "source": []
  }
 ],
 "metadata": {
  "kernelspec": {
   "display_name": "Python 3",
   "language": "python",
   "name": "python3"
  },
  "language_info": {
   "codemirror_mode": {
    "name": "ipython",
    "version": 3
   },
   "file_extension": ".py",
   "mimetype": "text/x-python",
   "name": "python",
   "nbconvert_exporter": "python",
   "pygments_lexer": "ipython3",
   "version": "3.8.10"
  }
 },
 "nbformat": 4,
 "nbformat_minor": 4
}
